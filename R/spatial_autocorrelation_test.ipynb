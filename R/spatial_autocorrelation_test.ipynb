{
 "cells": [
  {
   "cell_type": "code",
   "execution_count": 13,
   "metadata": {
    "collapsed": false
   },
   "outputs": [
    {
     "name": "stderr",
     "output_type": "stream",
     "text": [
      "Loading required package: spgwr\n",
      "NOTE: This package does not constitute approval of GWR\n",
      "as a method of spatial analysis; see example(gwr)\n"
     ]
    }
   ],
   "source": [
    "require(spdep)\n",
    "require(rgdal)\n",
    "require(spgwr)"
   ]
  },
  {
   "cell_type": "code",
   "execution_count": 3,
   "metadata": {
    "collapsed": false
   },
   "outputs": [
    {
     "name": "stdout",
     "output_type": "stream",
     "text": [
      "OGR data source with driver: ESRI Shapefile \n",
      "Source: \"/Users/dongmeichen/Documents/beetle/shp\", layer: \"mpb10km_fishnet\"\n",
      "with 36965 features\n",
      "It has 5 fields\n",
      "Integer64 fields read as strings:  OID_ \n"
     ]
    }
   ],
   "source": [
    "mpb10km_fishnet <- readOGR(dsn=\"/Users/dongmeichen/Documents/beetle/shp\", layer=\"mpb10km_fishnet\")"
   ]
  },
  {
   "cell_type": "code",
   "execution_count": 44,
   "metadata": {
    "collapsed": false
   },
   "outputs": [
    {
     "name": "stdout",
     "output_type": "stream",
     "text": [
      "OGR data source with driver: ESRI Shapefile \n",
      "Source: \"/Users/dongmeichen/Documents/beetle/shp\", layer: \"mpb10km_fishnet_selected\"\n",
      "with 7636 features\n",
      "It has 5 fields\n",
      "Integer64 fields read as strings:  OID_ \n"
     ]
    }
   ],
   "source": [
    "mpb10km_fishnet <- readOGR(dsn=\"/Users/dongmeichen/Documents/beetle/shp\", layer=\"mpb10km_fishnet_selected\")"
   ]
  },
  {
   "cell_type": "code",
   "execution_count": 45,
   "metadata": {
    "collapsed": true
   },
   "outputs": [],
   "source": [
    "mpb10km_fishnet.nb <- poly2nb(mpb10km_fishnet)"
   ]
  },
  {
   "cell_type": "code",
   "execution_count": 46,
   "metadata": {
    "collapsed": false
   },
   "outputs": [
    {
     "data": {
      "text/plain": [
       "Neighbour list object:\n",
       "Number of regions: 7636 \n",
       "Number of nonzero links: 46450 \n",
       "Percentage nonzero weights: 0.07966249 \n",
       "Average number of links: 6.083028 \n",
       "83 regions with no links:\n",
       "59 138 232 242 311 362 373 403 496 609 630 731 751 915 926 927 1002 1104 1108 1282 1353 1471 1476 1480 1503 1531 1629 1680 1693 1723 1737 2075 2309 2363 2410 2588 2832 2869 2885 3154 3278 3293 3500 3599 3695 4240 4413 4432 4590 4688 4732 4865 4895 4934 4946 5130 5193 5360 5439 5475 5479 5584 5615 5779 5919 5956 5960 6030 6092 6111 6436 6538 6556 6570 6613 6803 6804 6960 7018 7347 7485 7556 7611"
      ]
     },
     "metadata": {},
     "output_type": "display_data"
    }
   ],
   "source": [
    "mpb10km_fishnet.nb"
   ]
  },
  {
   "cell_type": "code",
   "execution_count": 47,
   "metadata": {
    "collapsed": false
   },
   "outputs": [],
   "source": [
    "GALfile <- \"/Users/dongmeichen/Documents/beetle/data/mpb10km_fishnet_selected.gal\"\n",
    "write.nb.gal(mpb10km_fishnet.nb, GALfile)"
   ]
  },
  {
   "cell_type": "code",
   "execution_count": 48,
   "metadata": {
    "collapsed": true
   },
   "outputs": [],
   "source": [
    "mpb10km.gal.nb <- read.gal('/Users/dongmeichen/Documents/beetle/data/mpb10km_fishnet_selected.gal')"
   ]
  },
  {
   "cell_type": "code",
   "execution_count": 54,
   "metadata": {
    "collapsed": false
   },
   "outputs": [],
   "source": [
    "mpb10km.gal.w <- nb2listw(mpb10km.gal.nb, style=\"C\", zero.policy=TRUE)"
   ]
  },
  {
   "cell_type": "code",
   "execution_count": 12,
   "metadata": {
    "collapsed": true
   },
   "outputs": [],
   "source": [
    "ROOT <- '/Users/dongmeichen/Documents/beetle/data'\n",
    "data <- read.csv(sprintf('%s/mpb10km_data_wo_FIA_scaled.csv', ROOT))\n",
    "xy <- read.csv(sprintf('%s/mpb10km_data_wo_FIA_xy.csv', ROOT))"
   ]
  },
  {
   "cell_type": "code",
   "execution_count": 38,
   "metadata": {
    "collapsed": true
   },
   "outputs": [],
   "source": [
    "spdf <- SpatialPointsDataFrame(data=data[,c('density', 'Tmean')], coords=cbind(xy$x,xy$y)) "
   ]
  },
  {
   "cell_type": "code",
   "execution_count": 42,
   "metadata": {
    "collapsed": true
   },
   "outputs": [],
   "source": [
    "proj4string(spdf) <- CRS(proj4string(mpb10km_fishnet))"
   ]
  },
  {
   "cell_type": "code",
   "execution_count": 43,
   "metadata": {
    "collapsed": false
   },
   "outputs": [],
   "source": [
    "writeOGR(spdf, dsn=\"/Users/dongmeichen/Documents/beetle/shp\", layer=\"mpb10km_MPB_affected\", \n",
    "         driver=\"ESRI Shapefile\", overwrite_layer=TRUE)"
   ]
  },
  {
   "cell_type": "code",
   "execution_count": 16,
   "metadata": {
    "collapsed": false
   },
   "outputs": [
    {
     "name": "stdout",
     "output_type": "stream",
     "text": [
      "Adaptive q: 0.381966 CV score: 126.2978 \n",
      "Adaptive q: 0.618034 CV score: 129.0536 \n",
      "Adaptive q: 0.236068 CV score: 122.6412 \n",
      "Adaptive q: 0.145898 CV score: 116.7548 \n",
      "Adaptive q: 0.09016994 CV score: 109.0182 \n",
      "Adaptive q: 0.05572809 CV score: 99.50077 \n",
      "Adaptive q: 0.03444185 CV score: 89.97764 \n",
      "Adaptive q: 0.02128624 CV score: 81.02683 \n",
      "Adaptive q: 0.01315562 CV score: 73.16614 \n",
      "Adaptive q: 0.008130619 CV score: 66.8608 \n",
      "Adaptive q: 0.005024999 CV score: 61.62293 \n",
      "Adaptive q: 0.00310562 CV score: 57.61485 \n",
      "Adaptive q: 0.001919379 CV score: 54.41824 \n",
      "Adaptive q: 0.001186241 CV score: 52.9948 \n",
      "Adaptive q: 0.0007331374 CV score: 51.71693 \n",
      "Adaptive q: 0.0004531039 CV score: 54.0599 \n",
      "Adaptive q: 0.0008672769 CV score: 51.72428 \n",
      "Adaptive q: 0.0006924473 CV score: 51.80802 \n",
      "Adaptive q: 0.0007738276 CV score: 51.71527 \n",
      "Adaptive q: 0.0008145177 CV score: 51.69085 \n",
      "Adaptive q: 0.0008145177 CV score: 51.69085 \n"
     ]
    },
    {
     "data": {
      "text/plain": [
       "   user  system elapsed \n",
       "685.490  29.556 757.818 "
      ]
     },
     "metadata": {},
     "output_type": "display_data"
    }
   ],
   "source": [
    "ptm <- proc.time()\n",
    "GWRbandwidth <- gwr.sel(beetleAcres ~ density + Tmean, data=data, coords=cbind(xy$x,xy$y), adapt=T)\n",
    "proc.time() - ptm"
   ]
  },
  {
   "cell_type": "code",
   "execution_count": 21,
   "metadata": {
    "collapsed": false
   },
   "outputs": [
    {
     "data": {
      "text/plain": [
       "     user    system   elapsed \n",
       " 7074.237  4006.805 11659.517 "
      ]
     },
     "metadata": {},
     "output_type": "display_data"
    }
   ],
   "source": [
    "# lon + lat + etopo1 + mStdAge + density + prs + GAP1 + vpd + Tmean + summerP2\n",
    "ptm <- proc.time()\n",
    "gwr.model <- gwr(beetleAcres ~ density + Tmean, data=data, coords=cbind(xy$x, xy$y), \n",
    "    adapt=GWRbandwidth, hatmatrix=TRUE, se.fit=TRUE)\n",
    "proc.time() - ptm"
   ]
  },
  {
   "cell_type": "code",
   "execution_count": 23,
   "metadata": {
    "collapsed": true
   },
   "outputs": [],
   "source": [
    "system(\"say 'I am done'\")"
   ]
  },
  {
   "cell_type": "code",
   "execution_count": 24,
   "metadata": {
    "collapsed": false
   },
   "outputs": [
    {
     "data": {
      "text/plain": [
       "Call:\n",
       "gwr(formula = beetleAcres ~ density + Tmean, data = data, coords = cbind(xy$x, \n",
       "    xy$y), adapt = GWRbandwidth, hatmatrix = TRUE, se.fit = TRUE)\n",
       "Kernel function: gwr.Gauss \n",
       "Adaptive quantile: 0.0008145177 (about 6 of 7636 data points)\n",
       "Summary of GWR coefficient estimates at data points:\n",
       "                   Min.    1st Qu.     Median    3rd Qu.       Max.  Global\n",
       "X.Intercept.  0.8874738  1.1960319  1.2838067  1.3623585  1.8405988  1.2555\n",
       "density      -0.3815142  0.0044761  0.0282664  0.0541381  0.2450105  0.0196\n",
       "Tmean        -0.6231059 -0.1237781 -0.0593898 -0.0122727  0.3969445 -0.0541\n",
       "Number of data points: 7636 \n",
       "Effective number of parameters (residual: 2traceS - traceS'S): 2079.143 \n",
       "Effective degrees of freedom (residual: 2traceS - traceS'S): 5556.857 \n",
       "Sigma (residual: 2traceS - traceS'S): 0.07673953 \n",
       "Effective number of parameters (model: traceS): 1500.368 \n",
       "Effective degrees of freedom (model: traceS): 6135.632 \n",
       "Sigma (model: traceS): 0.07303047 \n",
       "Sigma (ML): 0.06546374 \n",
       "AICc (GWR p. 61, eq 2.33; p. 96, eq. 4.21): -16227.17 \n",
       "AIC (GWR p. 96, eq. 4.22): -18465.03 \n",
       "Residual sum of squares: 32.72408 \n",
       "Quasi-global R2: 0.7900779 "
      ]
     },
     "metadata": {},
     "output_type": "display_data"
    }
   ],
   "source": [
    "gwr.model"
   ]
  },
  {
   "cell_type": "code",
   "execution_count": 25,
   "metadata": {
    "collapsed": true
   },
   "outputs": [],
   "source": [
    "results <- as.data.frame(gwr.model$SDF)\n",
    "write.csv(results, sprintf('%s/gwr_results_test.csv', ROOT), row.names=FALSE)"
   ]
  },
  {
   "cell_type": "code",
   "execution_count": 50,
   "metadata": {
    "collapsed": false
   },
   "outputs": [
    {
     "data": {
      "text/plain": [
       "\n",
       "\tLeung et al. 2000 three moment approximation for Moran's I\n",
       "\n",
       "data:  GWR residuals\n",
       "statistic = 16112, df = 15842, p-value = 0.06515\n",
       "sample estimates:\n",
       "           I \n",
       "-0.005551427 \n"
      ]
     },
     "metadata": {},
     "output_type": "display_data"
    }
   ],
   "source": [
    "sink(sprintf('%s/gwr_morantest.txt', ROOT))\n",
    "gwr.morantest(gwr.model, mpb10km.gal.w, zero.policy = TRUE)\n",
    "sink()"
   ]
  },
  {
   "cell_type": "code",
   "execution_count": 51,
   "metadata": {
    "collapsed": true
   },
   "outputs": [],
   "source": [
    "system(\"say 'I am done'\")"
   ]
  },
  {
   "cell_type": "code",
   "execution_count": 52,
   "metadata": {
    "collapsed": false
   },
   "outputs": [
    {
     "name": "stdout",
     "output_type": "stream",
     "text": [
      "Adaptive q: 0.381966 CV score: 95.79534 \n",
      "Adaptive q: 0.618034 CV score: 100.117 \n",
      "Adaptive q: 0.236068 CV score: 90.3601 \n",
      "Adaptive q: 0.145898 CV score: 84.11751 \n",
      "Adaptive q: 0.09016994 CV score: 76.67634 \n",
      "Adaptive q: 0.05572809 CV score: 68.92895 \n",
      "Adaptive q: 0.03444185 CV score: 63.05649 \n",
      "Adaptive q: 0.02128624 CV score: 57.97953 \n",
      "Adaptive q: 0.01315562 CV score: 54.02259 \n",
      "Adaptive q: 0.008130619 CV score: 51.00333 \n",
      "Adaptive q: 0.005024999 CV score: 49.36785 \n",
      "Adaptive q: 0.00310562 CV score: NA \n"
     ]
    },
    {
     "name": "stderr",
     "output_type": "stream",
     "text": [
      "Warning message in optimize(gwr.cv.adapt.f, lower = beta1, upper = beta2, maximum = FALSE, :\n",
      "“NA/Inf replaced by maximum positive value”"
     ]
    },
    {
     "name": "stdout",
     "output_type": "stream",
     "text": [
      "Adaptive q: 0.00621124 CV score: 49.75414 \n",
      "Adaptive q: 0.004063177 CV score: NA \n"
     ]
    },
    {
     "name": "stderr",
     "output_type": "stream",
     "text": [
      "Warning message in optimize(gwr.cv.adapt.f, lower = beta1, upper = beta2, maximum = FALSE, :\n",
      "“NA/Inf replaced by maximum positive value”"
     ]
    },
    {
     "name": "stdout",
     "output_type": "stream",
     "text": [
      "Adaptive q: 0.005478103 CV score: 49.4997 \n",
      "Adaptive q: 0.004657615 CV score: NA \n"
     ]
    },
    {
     "name": "stderr",
     "output_type": "stream",
     "text": [
      "Warning message in optimize(gwr.cv.adapt.f, lower = beta1, upper = beta2, maximum = FALSE, :\n",
      "“NA/Inf replaced by maximum positive value”"
     ]
    },
    {
     "name": "stdout",
     "output_type": "stream",
     "text": [
      "Adaptive q: 0.005198069 CV score: 49.40766 \n",
      "Adaptive q: 0.004884671 CV score: 49.38461 \n",
      "Adaptive q: 0.004984309 CV score: 49.36884 \n",
      "Adaptive q: 0.005065689 CV score: 49.37782 \n",
      "Adaptive q: 0.005024999 CV score: 49.36785 \n"
     ]
    },
    {
     "data": {
      "text/plain": [
       "    user   system  elapsed \n",
       "1471.122  466.122 2364.640 "
      ]
     },
     "metadata": {},
     "output_type": "display_data"
    }
   ],
   "source": [
    "ptm <- proc.time()\n",
    "GWRbandwidth <- gwr.sel(beetleAcres ~ lon + lat + etopo1 + mStdAge + density + \n",
    "    prs + GAP1 + GAP3 + vpd + wd + summerP0 + Tmean + ddAugJul + Tvar + winterMin + Acs, \n",
    "                        data=data, coords=cbind(xy$x,xy$y), adapt=T)\n",
    "proc.time() - ptm"
   ]
  },
  {
   "cell_type": "code",
   "execution_count": 53,
   "metadata": {
    "collapsed": true
   },
   "outputs": [],
   "source": [
    "system(\"say 'I am done'\")"
   ]
  },
  {
   "cell_type": "code",
   "execution_count": 55,
   "metadata": {
    "collapsed": false
   },
   "outputs": [
    {
     "data": {
      "text/plain": [
       "     user    system   elapsed \n",
       "11252.283  3627.027 15803.806 "
      ]
     },
     "metadata": {},
     "output_type": "display_data"
    }
   ],
   "source": [
    "ptm <- proc.time()\n",
    "gwr.model <- gwr(beetleAcres ~ lon + lat + etopo1 + mStdAge + density + \n",
    "    prs + GAP1 + GAP3 + vpd + wd + summerP0 + Tmean + ddAugJul + Tvar + winterMin + Acs, \n",
    "    data=data, coords=cbind(xy$x, xy$y), \n",
    "    adapt=GWRbandwidth, hatmatrix=TRUE, se.fit=TRUE)\n",
    "proc.time() - ptm"
   ]
  },
  {
   "cell_type": "code",
   "execution_count": 56,
   "metadata": {
    "collapsed": true
   },
   "outputs": [],
   "source": [
    "system(\"say 'I am done'\")"
   ]
  },
  {
   "cell_type": "code",
   "execution_count": 57,
   "metadata": {
    "collapsed": false
   },
   "outputs": [
    {
     "data": {
      "text/plain": [
       "Call:\n",
       "gwr(formula = beetleAcres ~ lon + lat + etopo1 + mStdAge + density + \n",
       "    prs + GAP1 + GAP3 + vpd + wd + summerP0 + Tmean + ddAugJul + \n",
       "    Tvar + winterMin + Acs, data = data, coords = cbind(xy$x, \n",
       "    xy$y), adapt = GWRbandwidth, hatmatrix = TRUE, se.fit = TRUE)\n",
       "Kernel function: gwr.Gauss \n",
       "Adaptive quantile: 0.005024999 (about 38 of 7636 data points)\n",
       "Summary of GWR coefficient estimates at data points:\n",
       "                    Min.     1st Qu.      Median     3rd Qu.        Max.\n",
       "X.Intercept. -4.0315e+00  9.1308e-01  1.2455e+00  1.5525e+00  4.6543e+00\n",
       "lon          -2.0487e+00 -2.1045e-01  4.2133e-02  3.2784e-01  2.0416e+00\n",
       "lat          -9.7783e-01 -1.2200e-01  4.8562e-02  2.2864e-01  1.2995e+00\n",
       "etopo1       -1.2028e-01  1.0188e-02  6.3509e-02  1.1450e-01  5.0182e-01\n",
       "mStdAge      -8.5262e-02 -6.6536e-03  7.4993e-06  5.5978e-03  3.9253e-02\n",
       "density      -4.0513e-02  1.1971e-02  2.3417e-02  3.8053e-02  1.0079e-01\n",
       "prs          -3.9617e-02 -9.0450e-03 -3.3498e-03  2.0307e-03  4.4671e-02\n",
       "GAP1         -1.6218e-01 -2.0609e-02 -7.7502e-03  1.4927e-03  2.9558e-02\n",
       "GAP3         -4.7894e-02 -4.4076e-03  3.7255e-03  1.0469e-02  4.8681e-02\n",
       "vpd          -5.4696e-01 -1.1727e-01 -2.1820e-02  7.0788e-02  6.9619e-01\n",
       "wd           -6.7100e-01 -6.5846e-02 -1.0442e-02  4.3143e-02  4.5437e-01\n",
       "summerP0     -1.1052e+00 -1.6838e-01 -5.6209e-02  5.7959e-02  1.1876e+00\n",
       "Tmean        -5.7452e-01 -1.0764e-01 -3.5872e-02  1.5839e-02  2.9974e-01\n",
       "ddAugJul     -1.1245e+00 -1.2261e-01  5.2597e-03  1.1467e-01  6.0025e-01\n",
       "Tvar         -4.7735e-01 -1.0596e-01 -1.2386e-02  8.5055e-02  6.5614e-01\n",
       "winterMin    -7.8263e-01 -1.0634e-01  2.6762e-02  1.7094e-01  7.3373e-01\n",
       "Acs          -4.9906e+00 -4.6869e-02  1.5640e-02  8.4095e-02  1.5603e+00\n",
       "              Global\n",
       "X.Intercept.  1.2555\n",
       "lon          -0.0153\n",
       "lat           0.0674\n",
       "etopo1        0.1023\n",
       "mStdAge       0.0027\n",
       "density       0.0226\n",
       "prs          -0.0091\n",
       "GAP1         -0.0084\n",
       "GAP3          0.0054\n",
       "vpd          -0.0332\n",
       "wd           -0.0094\n",
       "summerP0     -0.0422\n",
       "Tmean         0.0154\n",
       "ddAugJul      0.0370\n",
       "Tvar         -0.0323\n",
       "winterMin    -0.0496\n",
       "Acs           0.0107\n",
       "Number of data points: 7636 \n",
       "Effective number of parameters (residual: 2traceS - traceS'S): 1554.212 \n",
       "Effective degrees of freedom (residual: 2traceS - traceS'S): 6081.788 \n",
       "Sigma (residual: 2traceS - traceS'S): 0.07607759 \n",
       "Effective number of parameters (model: traceS): 1156.193 \n",
       "Effective degrees of freedom (model: traceS): 6479.807 \n",
       "Sigma (model: traceS): 0.07370405 \n",
       "Sigma (ML): 0.06789525 \n",
       "AICc (GWR p. 61, eq 2.33; p. 96, eq. 4.21): -16680.25 \n",
       "AIC (GWR p. 96, eq. 4.22): -18252.24 \n",
       "Residual sum of squares: 35.20017 \n",
       "Quasi-global R2: 0.7741941 "
      ]
     },
     "metadata": {},
     "output_type": "display_data"
    }
   ],
   "source": [
    "gwr.model"
   ]
  },
  {
   "cell_type": "code",
   "execution_count": 58,
   "metadata": {
    "collapsed": true
   },
   "outputs": [],
   "source": [
    "results <- as.data.frame(gwr.model$SDF)\n",
    "write.csv(results, sprintf('%s/gwr_results_16.csv', ROOT), row.names=FALSE)"
   ]
  },
  {
   "cell_type": "code",
   "execution_count": 59,
   "metadata": {
    "collapsed": false
   },
   "outputs": [
    {
     "name": "stderr",
     "output_type": "stream",
     "text": [
      "Warning message in gwr.morantest(gwr.model, mpb10km.gal.w, zero.policy = TRUE):\n",
      "“mpb10km.gal.wnot row standardised”"
     ]
    },
    {
     "data": {
      "text/plain": [
       "\n",
       "\tLeung et al. 2000 three moment approximation for Moran's I\n",
       "\n",
       "data:  GWR residuals\n",
       "statistic = 10126, df = 9730.6, p-value = 0.002555\n",
       "sample estimates:\n",
       "          I \n",
       "0.005569023 \n"
      ]
     },
     "metadata": {},
     "output_type": "display_data"
    },
    {
     "data": {
      "text/plain": [
       "    user   system  elapsed \n",
       "1995.300   13.312 2052.217 "
      ]
     },
     "metadata": {},
     "output_type": "display_data"
    }
   ],
   "source": [
    "ptm <- proc.time()\n",
    "gwr.morantest(gwr.model, mpb10km.gal.w, zero.policy = TRUE)\n",
    "proc.time() - ptm"
   ]
  },
  {
   "cell_type": "code",
   "execution_count": 60,
   "metadata": {
    "collapsed": true
   },
   "outputs": [],
   "source": [
    "system(\"say 'I am done'\")"
   ]
  },
  {
   "cell_type": "code",
   "execution_count": 61,
   "metadata": {
    "collapsed": false
   },
   "outputs": [
    {
     "name": "stdout",
     "output_type": "stream",
     "text": [
      "Adaptive q: 0.381966 CV score: 101.0585 \n",
      "Adaptive q: 0.618034 CV score: 105.2991 \n",
      "Adaptive q: 0.236068 CV score: 95.51503 \n",
      "Adaptive q: 0.145898 CV score: 88.80132 \n",
      "Adaptive q: 0.09016994 CV score: 81.30395 \n",
      "Adaptive q: 0.05572809 CV score: 73.2046 \n",
      "Adaptive q: 0.03444185 CV score: 66.76408 \n",
      "Adaptive q: 0.02128624 CV score: 61.25872 \n",
      "Adaptive q: 0.01315562 CV score: 56.96975 \n",
      "Adaptive q: 0.008130619 CV score: 53.52357 \n",
      "Adaptive q: 0.005024999 CV score: 51.45414 \n",
      "Adaptive q: 0.00310562 CV score: NA \n"
     ]
    },
    {
     "name": "stderr",
     "output_type": "stream",
     "text": [
      "Warning message in optimize(gwr.cv.adapt.f, lower = beta1, upper = beta2, maximum = FALSE, :\n",
      "“NA/Inf replaced by maximum positive value”"
     ]
    },
    {
     "name": "stdout",
     "output_type": "stream",
     "text": [
      "Adaptive q: 0.00621124 CV score: 52.05271 \n",
      "Adaptive q: 0.004291861 CV score: NA \n"
     ]
    },
    {
     "name": "stderr",
     "output_type": "stream",
     "text": [
      "Warning message in optimize(gwr.cv.adapt.f, lower = beta1, upper = beta2, maximum = FALSE, :\n",
      "“NA/Inf replaced by maximum positive value”"
     ]
    },
    {
     "name": "stdout",
     "output_type": "stream",
     "text": [
      "Adaptive q: 0.005478103 CV score: 51.63341 \n",
      "Adaptive q: 0.004744965 CV score: 51.37629 \n",
      "Adaptive q: 0.004571895 CV score: NA \n"
     ]
    },
    {
     "name": "stderr",
     "output_type": "stream",
     "text": [
      "Warning message in optimize(gwr.cv.adapt.f, lower = beta1, upper = beta2, maximum = FALSE, :\n",
      "“NA/Inf replaced by maximum positive value”"
     ]
    },
    {
     "name": "stdout",
     "output_type": "stream",
     "text": [
      "Adaptive q: 0.004851928 CV score: 51.40221 \n",
      "Adaptive q: 0.004678858 CV score: NA \n"
     ]
    },
    {
     "name": "stderr",
     "output_type": "stream",
     "text": [
      "Warning message in optimize(gwr.cv.adapt.f, lower = beta1, upper = beta2, maximum = FALSE, :\n",
      "“NA/Inf replaced by maximum positive value”"
     ]
    },
    {
     "name": "stdout",
     "output_type": "stream",
     "text": [
      "Adaptive q: 0.004785822 CV score: 51.38254 \n",
      "Adaptive q: 0.004744965 CV score: 51.37629 \n"
     ]
    },
    {
     "data": {
      "text/plain": [
       "    user   system  elapsed \n",
       " 989.429  268.568 1283.628 "
      ]
     },
     "metadata": {},
     "output_type": "display_data"
    }
   ],
   "source": [
    "ptm <- proc.time()\n",
    "GWRbandwidth <- gwr.sel(beetleAcres ~  etopo1 + mStdAge + density + \n",
    "    prs + GAP1 + GAP3 + vpd + wd + summerP0 + Tmean + winterMin + Acs, \n",
    "    data=data, coords=cbind(xy$x,xy$y), adapt=T)\n",
    "proc.time() - ptm"
   ]
  },
  {
   "cell_type": "code",
   "execution_count": 62,
   "metadata": {
    "collapsed": false
   },
   "outputs": [
    {
     "data": {
      "text/plain": [
       "     user    system   elapsed \n",
       " 9006.723  2871.378 12120.167 "
      ]
     },
     "metadata": {},
     "output_type": "display_data"
    }
   ],
   "source": [
    "ptm <- proc.time()\n",
    "gwr.model <- gwr(beetleAcres ~ etopo1 + mStdAge + density + \n",
    "    prs + GAP1 + GAP3 + vpd + wd + summerP0 + Tmean + winterMin + Acs, \n",
    "    data=data, coords=cbind(xy$x, xy$y), \n",
    "    adapt=GWRbandwidth, hatmatrix=TRUE, se.fit=TRUE)\n",
    "proc.time() - ptm"
   ]
  },
  {
   "cell_type": "code",
   "execution_count": 63,
   "metadata": {
    "collapsed": false
   },
   "outputs": [
    {
     "data": {
      "text/plain": [
       "Call:\n",
       "gwr(formula = beetleAcres ~ etopo1 + mStdAge + density + prs + \n",
       "    GAP1 + GAP3 + vpd + wd + summerP0 + Tmean + winterMin + Acs, \n",
       "    data = data, coords = cbind(xy$x, xy$y), adapt = GWRbandwidth, \n",
       "    hatmatrix = TRUE, se.fit = TRUE)\n",
       "Kernel function: gwr.Gauss \n",
       "Adaptive quantile: 0.004744965 (about 36 of 7636 data points)\n",
       "Summary of GWR coefficient estimates at data points:\n",
       "                    Min.     1st Qu.      Median     3rd Qu.        Max.\n",
       "X.Intercept. -2.62331990  1.12695549  1.28596738  1.45697621  3.91915117\n",
       "etopo1       -0.17621133  0.01556767  0.06172625  0.11141435  0.31611517\n",
       "mStdAge      -0.09881045 -0.00688580 -0.00013846  0.00598338  0.04303010\n",
       "density      -0.04401199  0.01230829  0.02460671  0.03991716  0.10038937\n",
       "prs          -0.04368870 -0.00959830 -0.00376961  0.00237503  0.05054430\n",
       "GAP1         -0.15136641 -0.02089354 -0.00707424  0.00215865  0.04334964\n",
       "GAP3         -0.04465070 -0.00377424  0.00422628  0.01244131  0.04888033\n",
       "vpd          -0.42926550 -0.10640278 -0.03849733  0.01767243  0.37766559\n",
       "wd           -0.52022549 -0.07175640 -0.01083061  0.04226935  0.64484472\n",
       "summerP0     -0.94756586 -0.13204408 -0.05670918  0.05032442  0.71430961\n",
       "Tmean        -0.36843048 -0.07906737 -0.02276545  0.02662082  0.28221910\n",
       "winterMin    -0.81564938 -0.10162635 -0.00540157  0.09491259  0.65167228\n",
       "Acs          -4.40734786 -0.05946824  0.01093810  0.08791939  3.62003959\n",
       "              Global\n",
       "X.Intercept.  1.2555\n",
       "etopo1        0.0257\n",
       "mStdAge       0.0054\n",
       "density       0.0263\n",
       "prs          -0.0094\n",
       "GAP1         -0.0028\n",
       "GAP3          0.0081\n",
       "vpd          -0.0617\n",
       "wd           -0.0128\n",
       "summerP0     -0.0594\n",
       "Tmean         0.0082\n",
       "winterMin    -0.0332\n",
       "Acs           0.0129\n",
       "Number of data points: 7636 \n",
       "Effective number of parameters (residual: 2traceS - traceS'S): 1405.497 \n",
       "Effective degrees of freedom (residual: 2traceS - traceS'S): 6230.503 \n",
       "Sigma (residual: 2traceS - traceS'S): 0.07797017 \n",
       "Effective number of parameters (model: traceS): 1032.199 \n",
       "Effective degrees of freedom (model: traceS): 6603.801 \n",
       "Sigma (model: traceS): 0.07573438 \n",
       "Sigma (ML): 0.0704299 \n",
       "AICc (GWR p. 61, eq 2.33; p. 96, eq. 4.21): -16458.58 \n",
       "AIC (GWR p. 96, eq. 4.22): -17816.49 \n",
       "Residual sum of squares: 37.87739 \n",
       "Quasi-global R2: 0.7570199 "
      ]
     },
     "metadata": {},
     "output_type": "display_data"
    }
   ],
   "source": [
    "gwr.model"
   ]
  },
  {
   "cell_type": "code",
   "execution_count": 64,
   "metadata": {
    "collapsed": true
   },
   "outputs": [],
   "source": [
    "results <- as.data.frame(gwr.model$SDF)\n",
    "write.csv(results, sprintf('%s/gwr_results_12.csv', ROOT), row.names=FALSE)"
   ]
  },
  {
   "cell_type": "code",
   "execution_count": 65,
   "metadata": {
    "collapsed": false
   },
   "outputs": [
    {
     "name": "stderr",
     "output_type": "stream",
     "text": [
      "Warning message in gwr.morantest(gwr.model, mpb10km.gal.w, zero.policy = TRUE):\n",
      "“mpb10km.gal.wnot row standardised”"
     ]
    },
    {
     "data": {
      "text/plain": [
       "\n",
       "\tLeung et al. 2000 three moment approximation for Moran's I\n",
       "\n",
       "data:  GWR residuals\n",
       "statistic = 11066, df = 10570, p-value = 0.0003814\n",
       "sample estimates:\n",
       "         I \n",
       "0.01088281 \n"
      ]
     },
     "metadata": {},
     "output_type": "display_data"
    },
    {
     "data": {
      "text/plain": [
       "    user   system  elapsed \n",
       "2052.138   15.655 2118.422 "
      ]
     },
     "metadata": {},
     "output_type": "display_data"
    }
   ],
   "source": [
    "ptm <- proc.time()\n",
    "gwr.morantest(gwr.model, mpb10km.gal.w, zero.policy = TRUE)\n",
    "proc.time() - ptm"
   ]
  },
  {
   "cell_type": "code",
   "execution_count": 66,
   "metadata": {
    "collapsed": true
   },
   "outputs": [],
   "source": [
    "system(\"say 'I am done'\")"
   ]
  },
  {
   "cell_type": "code",
   "execution_count": null,
   "metadata": {
    "collapsed": true
   },
   "outputs": [],
   "source": []
  }
 ],
 "metadata": {
  "kernelspec": {
   "display_name": "R",
   "language": "R",
   "name": "ir"
  },
  "language_info": {
   "codemirror_mode": "r",
   "file_extension": ".r",
   "mimetype": "text/x-r-source",
   "name": "R",
   "pygments_lexer": "r",
   "version": "3.4.4"
  }
 },
 "nbformat": 4,
 "nbformat_minor": 2
}
