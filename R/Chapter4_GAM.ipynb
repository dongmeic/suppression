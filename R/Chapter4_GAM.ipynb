{
 "cells": [
  {
   "cell_type": "code",
   "execution_count": 1,
   "metadata": {
    "collapsed": false
   },
   "outputs": [
    {
     "name": "stderr",
     "output_type": "stream",
     "text": [
      "Loading required package: nlme\n",
      "This is mgcv 1.8-23. For overview type 'help(\"mgcv-package\")'.\n"
     ]
    }
   ],
   "source": [
    "library(mgcv)"
   ]
  },
  {
   "cell_type": "code",
   "execution_count": 2,
   "metadata": {
    "collapsed": false
   },
   "outputs": [
    {
     "data": {
      "text/html": [
       "<table>\n",
       "<thead><tr><th scope=col>lon</th><th scope=col>lat</th><th scope=col>etopo1</th><th scope=col>beetleAcres</th><th scope=col>host</th><th scope=col>forest</th><th scope=col>mStdAge</th><th scope=col>density</th><th scope=col>PctLarge</th><th scope=col>PctOld</th><th scope=col>⋯</th><th scope=col>JanMin</th><th scope=col>TOctSep</th><th scope=col>Jan20</th><th scope=col>PcumOctSep</th><th scope=col>logSprsCPA.p1</th><th scope=col>SprsFires</th><th scope=col>PctSprs</th><th scope=col>SprsAcre</th><th scope=col>SprsDays</th><th scope=col>OutDays</th></tr></thead>\n",
       "<tbody>\n",
       "\t<tr><td>-123.9778  </td><td>41.15724   </td><td>462.4003   </td><td> 0.46000   </td><td>1          </td><td>1          </td><td> 24.51245  </td><td>51675.95   </td><td>0.2191781  </td><td>0.06666667 </td><td>⋯          </td><td>-1.310873  </td><td>10.921748  </td><td>0          </td><td>2914.449   </td><td>8.112028   </td><td>7          </td><td>0.8750000  </td><td>   8.257143</td><td> 3.0       </td><td> 6.0       </td></tr>\n",
       "\t<tr><td>-123.6292  </td><td>39.83341   </td><td>636.2545   </td><td> 0.70000   </td><td>1          </td><td>1          </td><td> 78.60288  </td><td>47511.05   </td><td>0.3593750  </td><td>0.50000000 </td><td>⋯          </td><td>-2.068149  </td><td>10.979370  </td><td>0          </td><td>2751.259   </td><td>9.361249   </td><td>1          </td><td>1.0000000  </td><td>3597.000000</td><td>34.0       </td><td>72.0       </td></tr>\n",
       "\t<tr><td>-123.7100  </td><td>41.00384   </td><td>758.2146   </td><td> 0.92000   </td><td>1          </td><td>1          </td><td> 56.26146  </td><td>51141.66   </td><td>0.4605263  </td><td>0.71428571 </td><td>⋯          </td><td>-2.187790  </td><td>11.975916  </td><td>0          </td><td>2702.836   </td><td>8.456540   </td><td>8          </td><td>0.6666667  </td><td>   0.112500</td><td> 0.0       </td><td> 0.5       </td></tr>\n",
       "\t<tr><td>-123.7726  </td><td>41.36003   </td><td>924.6661   </td><td>15.23333   </td><td>1          </td><td>1          </td><td>189.66301  </td><td>52250.75   </td><td>0.3257576  </td><td>0.20833333 </td><td>⋯          </td><td>-3.029533  </td><td> 8.998663  </td><td>0          </td><td>2946.935   </td><td>9.933758   </td><td>2          </td><td>0.3333333  </td><td>   0.300000</td><td> 1.0       </td><td> 0.5       </td></tr>\n",
       "\t<tr><td>-123.6073  </td><td>41.10505   </td><td>766.6403   </td><td> 0.70000   </td><td>1          </td><td>1          </td><td> 78.18508  </td><td>50122.04   </td><td>0.3162281  </td><td>0.20000000 </td><td>⋯          </td><td>-3.342976  </td><td> 8.919163  </td><td>0          </td><td>2822.343   </td><td>8.805613   </td><td>8          </td><td>0.8000000  </td><td> 606.425000</td><td> 0.5       </td><td> 1.0       </td></tr>\n",
       "\t<tr><td>-123.6228  </td><td>41.19412   </td><td>729.4384   </td><td> 9.30000   </td><td>1          </td><td>1          </td><td>109.59647  </td><td>51100.97   </td><td>0.3793103  </td><td>0.11111111 </td><td>⋯          </td><td>-2.963782  </td><td>10.673803  </td><td>0          </td><td>2762.928   </td><td>8.071219   </td><td>9          </td><td>0.6923077  </td><td>  11.266667</td><td> 1.0       </td><td> 4.0       </td></tr>\n",
       "</tbody>\n",
       "</table>\n"
      ],
      "text/latex": [
       "\\begin{tabular}{r|llllllllllllllllllllllllllllllllllllllllllllllllllllllllll}\n",
       " lon & lat & etopo1 & beetleAcres & host & forest & mStdAge & density & PctLarge & PctOld & ⋯ & JanMin & TOctSep & Jan20 & PcumOctSep & logSprsCPA.p1 & SprsFires & PctSprs & SprsAcre & SprsDays & OutDays\\\\\n",
       "\\hline\n",
       "\t -123.9778   & 41.15724    & 462.4003    &  0.46000    & 1           & 1           &  24.51245   & 51675.95    & 0.2191781   & 0.06666667  & ⋯           & -1.310873   & 10.921748   & 0           & 2914.449    & 8.112028    & 7           & 0.8750000   &    8.257143 &  3.0        &  6.0       \\\\\n",
       "\t -123.6292   & 39.83341    & 636.2545    &  0.70000    & 1           & 1           &  78.60288   & 47511.05    & 0.3593750   & 0.50000000  & ⋯           & -2.068149   & 10.979370   & 0           & 2751.259    & 9.361249    & 1           & 1.0000000   & 3597.000000 & 34.0        & 72.0       \\\\\n",
       "\t -123.7100   & 41.00384    & 758.2146    &  0.92000    & 1           & 1           &  56.26146   & 51141.66    & 0.4605263   & 0.71428571  & ⋯           & -2.187790   & 11.975916   & 0           & 2702.836    & 8.456540    & 8           & 0.6666667   &    0.112500 &  0.0        &  0.5       \\\\\n",
       "\t -123.7726   & 41.36003    & 924.6661    & 15.23333    & 1           & 1           & 189.66301   & 52250.75    & 0.3257576   & 0.20833333  & ⋯           & -3.029533   &  8.998663   & 0           & 2946.935    & 9.933758    & 2           & 0.3333333   &    0.300000 &  1.0        &  0.5       \\\\\n",
       "\t -123.6073   & 41.10505    & 766.6403    &  0.70000    & 1           & 1           &  78.18508   & 50122.04    & 0.3162281   & 0.20000000  & ⋯           & -3.342976   &  8.919163   & 0           & 2822.343    & 8.805613    & 8           & 0.8000000   &  606.425000 &  0.5        &  1.0       \\\\\n",
       "\t -123.6228   & 41.19412    & 729.4384    &  9.30000    & 1           & 1           & 109.59647   & 51100.97    & 0.3793103   & 0.11111111  & ⋯           & -2.963782   & 10.673803   & 0           & 2762.928    & 8.071219    & 9           & 0.6923077   &   11.266667 &  1.0        &  4.0       \\\\\n",
       "\\end{tabular}\n"
      ],
      "text/markdown": [
       "\n",
       "lon | lat | etopo1 | beetleAcres | host | forest | mStdAge | density | PctLarge | PctOld | ⋯ | JanMin | TOctSep | Jan20 | PcumOctSep | logSprsCPA.p1 | SprsFires | PctSprs | SprsAcre | SprsDays | OutDays | \n",
       "|---|---|---|---|---|---|\n",
       "| -123.9778   | 41.15724    | 462.4003    |  0.46000    | 1           | 1           |  24.51245   | 51675.95    | 0.2191781   | 0.06666667  | ⋯           | -1.310873   | 10.921748   | 0           | 2914.449    | 8.112028    | 7           | 0.8750000   |    8.257143 |  3.0        |  6.0        | \n",
       "| -123.6292   | 39.83341    | 636.2545    |  0.70000    | 1           | 1           |  78.60288   | 47511.05    | 0.3593750   | 0.50000000  | ⋯           | -2.068149   | 10.979370   | 0           | 2751.259    | 9.361249    | 1           | 1.0000000   | 3597.000000 | 34.0        | 72.0        | \n",
       "| -123.7100   | 41.00384    | 758.2146    |  0.92000    | 1           | 1           |  56.26146   | 51141.66    | 0.4605263   | 0.71428571  | ⋯           | -2.187790   | 11.975916   | 0           | 2702.836    | 8.456540    | 8           | 0.6666667   |    0.112500 |  0.0        |  0.5        | \n",
       "| -123.7726   | 41.36003    | 924.6661    | 15.23333    | 1           | 1           | 189.66301   | 52250.75    | 0.3257576   | 0.20833333  | ⋯           | -3.029533   |  8.998663   | 0           | 2946.935    | 9.933758    | 2           | 0.3333333   |    0.300000 |  1.0        |  0.5        | \n",
       "| -123.6073   | 41.10505    | 766.6403    |  0.70000    | 1           | 1           |  78.18508   | 50122.04    | 0.3162281   | 0.20000000  | ⋯           | -3.342976   |  8.919163   | 0           | 2822.343    | 8.805613    | 8           | 0.8000000   |  606.425000 |  0.5        |  1.0        | \n",
       "| -123.6228   | 41.19412    | 729.4384    |  9.30000    | 1           | 1           | 109.59647   | 51100.97    | 0.3793103   | 0.11111111  | ⋯           | -2.963782   | 10.673803   | 0           | 2762.928    | 8.071219    | 9           | 0.6923077   |   11.266667 |  1.0        |  4.0        | \n",
       "\n",
       "\n"
      ],
      "text/plain": [
       "  lon       lat      etopo1   beetleAcres host forest mStdAge   density \n",
       "1 -123.9778 41.15724 462.4003  0.46000    1    1       24.51245 51675.95\n",
       "2 -123.6292 39.83341 636.2545  0.70000    1    1       78.60288 47511.05\n",
       "3 -123.7100 41.00384 758.2146  0.92000    1    1       56.26146 51141.66\n",
       "4 -123.7726 41.36003 924.6661 15.23333    1    1      189.66301 52250.75\n",
       "5 -123.6073 41.10505 766.6403  0.70000    1    1       78.18508 50122.04\n",
       "6 -123.6228 41.19412 729.4384  9.30000    1    1      109.59647 51100.97\n",
       "  PctLarge  PctOld     ⋯ JanMin    TOctSep   Jan20 PcumOctSep logSprsCPA.p1\n",
       "1 0.2191781 0.06666667 ⋯ -1.310873 10.921748 0     2914.449   8.112028     \n",
       "2 0.3593750 0.50000000 ⋯ -2.068149 10.979370 0     2751.259   9.361249     \n",
       "3 0.4605263 0.71428571 ⋯ -2.187790 11.975916 0     2702.836   8.456540     \n",
       "4 0.3257576 0.20833333 ⋯ -3.029533  8.998663 0     2946.935   9.933758     \n",
       "5 0.3162281 0.20000000 ⋯ -3.342976  8.919163 0     2822.343   8.805613     \n",
       "6 0.3793103 0.11111111 ⋯ -2.963782 10.673803 0     2762.928   8.071219     \n",
       "  SprsFires PctSprs   SprsAcre    SprsDays OutDays\n",
       "1 7         0.8750000    8.257143  3.0      6.0   \n",
       "2 1         1.0000000 3597.000000 34.0     72.0   \n",
       "3 8         0.6666667    0.112500  0.0      0.5   \n",
       "4 2         0.3333333    0.300000  1.0      0.5   \n",
       "5 8         0.8000000  606.425000  0.5      1.0   \n",
       "6 9         0.6923077   11.266667  1.0      4.0   "
      ]
     },
     "metadata": {},
     "output_type": "display_data"
    }
   ],
   "source": [
    "ROOT <- '/Users/dongmeichen/Documents/beetle'\n",
    "DATA <- sprintf('%s/data', ROOT)\n",
    "data <- read.csv(sprintf('%s/mpb10km_data_clean.csv', DATA))\n",
    "head(data)"
   ]
  },
  {
   "cell_type": "code",
   "execution_count": 3,
   "metadata": {
    "collapsed": false
   },
   "outputs": [
    {
     "data": {
      "text/html": [
       "<ol class=list-inline>\n",
       "\t<li>'lon'</li>\n",
       "\t<li>'lat'</li>\n",
       "\t<li>'etopo1'</li>\n",
       "\t<li>'beetleAcres'</li>\n",
       "\t<li>'host'</li>\n",
       "\t<li>'forest'</li>\n",
       "\t<li>'mStdAge'</li>\n",
       "\t<li>'density'</li>\n",
       "\t<li>'PctLarge'</li>\n",
       "\t<li>'PctOld'</li>\n",
       "\t<li>'vcc'</li>\n",
       "\t<li>'mfri'</li>\n",
       "\t<li>'prs'</li>\n",
       "\t<li>'pms'</li>\n",
       "\t<li>'pls'</li>\n",
       "\t<li>'GAP1'</li>\n",
       "\t<li>'GAP2'</li>\n",
       "\t<li>'GAP3'</li>\n",
       "\t<li>'vpd'</li>\n",
       "\t<li>'cwd'</li>\n",
       "\t<li>'maxAugT'</li>\n",
       "\t<li>'summerP0'</li>\n",
       "\t<li>'Tmean'</li>\n",
       "\t<li>'mi'</li>\n",
       "\t<li>'Tvar'</li>\n",
       "\t<li>'wd'</li>\n",
       "\t<li>'AugTmean'</li>\n",
       "\t<li>'OctTmin'</li>\n",
       "\t<li>'AugMaxT'</li>\n",
       "\t<li>'AugTmax'</li>\n",
       "\t<li>'Acs'</li>\n",
       "\t<li>'MarMin'</li>\n",
       "\t<li>'ddAugJun'</li>\n",
       "\t<li>'ddAugJul'</li>\n",
       "\t<li>'JanTmin'</li>\n",
       "\t<li>'PPT'</li>\n",
       "\t<li>'summerP2'</li>\n",
       "\t<li>'TMarAug'</li>\n",
       "\t<li>'Mar20'</li>\n",
       "\t<li>'fallTmean'</li>\n",
       "\t<li>'MarTmin'</li>\n",
       "\t<li>'maxT'</li>\n",
       "\t<li>'Tmin'</li>\n",
       "\t<li>'winterMin'</li>\n",
       "\t<li>'summerTmean'</li>\n",
       "\t<li>'Pmean'</li>\n",
       "\t<li>'summerP1'</li>\n",
       "\t<li>'minT'</li>\n",
       "\t<li>'JanMin'</li>\n",
       "\t<li>'TOctSep'</li>\n",
       "\t<li>'Jan20'</li>\n",
       "\t<li>'PcumOctSep'</li>\n",
       "\t<li>'logSprsCPA.p1'</li>\n",
       "\t<li>'SprsFires'</li>\n",
       "\t<li>'PctSprs'</li>\n",
       "\t<li>'SprsAcre'</li>\n",
       "\t<li>'SprsDays'</li>\n",
       "\t<li>'OutDays'</li>\n",
       "</ol>\n"
      ],
      "text/latex": [
       "\\begin{enumerate*}\n",
       "\\item 'lon'\n",
       "\\item 'lat'\n",
       "\\item 'etopo1'\n",
       "\\item 'beetleAcres'\n",
       "\\item 'host'\n",
       "\\item 'forest'\n",
       "\\item 'mStdAge'\n",
       "\\item 'density'\n",
       "\\item 'PctLarge'\n",
       "\\item 'PctOld'\n",
       "\\item 'vcc'\n",
       "\\item 'mfri'\n",
       "\\item 'prs'\n",
       "\\item 'pms'\n",
       "\\item 'pls'\n",
       "\\item 'GAP1'\n",
       "\\item 'GAP2'\n",
       "\\item 'GAP3'\n",
       "\\item 'vpd'\n",
       "\\item 'cwd'\n",
       "\\item 'maxAugT'\n",
       "\\item 'summerP0'\n",
       "\\item 'Tmean'\n",
       "\\item 'mi'\n",
       "\\item 'Tvar'\n",
       "\\item 'wd'\n",
       "\\item 'AugTmean'\n",
       "\\item 'OctTmin'\n",
       "\\item 'AugMaxT'\n",
       "\\item 'AugTmax'\n",
       "\\item 'Acs'\n",
       "\\item 'MarMin'\n",
       "\\item 'ddAugJun'\n",
       "\\item 'ddAugJul'\n",
       "\\item 'JanTmin'\n",
       "\\item 'PPT'\n",
       "\\item 'summerP2'\n",
       "\\item 'TMarAug'\n",
       "\\item 'Mar20'\n",
       "\\item 'fallTmean'\n",
       "\\item 'MarTmin'\n",
       "\\item 'maxT'\n",
       "\\item 'Tmin'\n",
       "\\item 'winterMin'\n",
       "\\item 'summerTmean'\n",
       "\\item 'Pmean'\n",
       "\\item 'summerP1'\n",
       "\\item 'minT'\n",
       "\\item 'JanMin'\n",
       "\\item 'TOctSep'\n",
       "\\item 'Jan20'\n",
       "\\item 'PcumOctSep'\n",
       "\\item 'logSprsCPA.p1'\n",
       "\\item 'SprsFires'\n",
       "\\item 'PctSprs'\n",
       "\\item 'SprsAcre'\n",
       "\\item 'SprsDays'\n",
       "\\item 'OutDays'\n",
       "\\end{enumerate*}\n"
      ],
      "text/markdown": [
       "1. 'lon'\n",
       "2. 'lat'\n",
       "3. 'etopo1'\n",
       "4. 'beetleAcres'\n",
       "5. 'host'\n",
       "6. 'forest'\n",
       "7. 'mStdAge'\n",
       "8. 'density'\n",
       "9. 'PctLarge'\n",
       "10. 'PctOld'\n",
       "11. 'vcc'\n",
       "12. 'mfri'\n",
       "13. 'prs'\n",
       "14. 'pms'\n",
       "15. 'pls'\n",
       "16. 'GAP1'\n",
       "17. 'GAP2'\n",
       "18. 'GAP3'\n",
       "19. 'vpd'\n",
       "20. 'cwd'\n",
       "21. 'maxAugT'\n",
       "22. 'summerP0'\n",
       "23. 'Tmean'\n",
       "24. 'mi'\n",
       "25. 'Tvar'\n",
       "26. 'wd'\n",
       "27. 'AugTmean'\n",
       "28. 'OctTmin'\n",
       "29. 'AugMaxT'\n",
       "30. 'AugTmax'\n",
       "31. 'Acs'\n",
       "32. 'MarMin'\n",
       "33. 'ddAugJun'\n",
       "34. 'ddAugJul'\n",
       "35. 'JanTmin'\n",
       "36. 'PPT'\n",
       "37. 'summerP2'\n",
       "38. 'TMarAug'\n",
       "39. 'Mar20'\n",
       "40. 'fallTmean'\n",
       "41. 'MarTmin'\n",
       "42. 'maxT'\n",
       "43. 'Tmin'\n",
       "44. 'winterMin'\n",
       "45. 'summerTmean'\n",
       "46. 'Pmean'\n",
       "47. 'summerP1'\n",
       "48. 'minT'\n",
       "49. 'JanMin'\n",
       "50. 'TOctSep'\n",
       "51. 'Jan20'\n",
       "52. 'PcumOctSep'\n",
       "53. 'logSprsCPA.p1'\n",
       "54. 'SprsFires'\n",
       "55. 'PctSprs'\n",
       "56. 'SprsAcre'\n",
       "57. 'SprsDays'\n",
       "58. 'OutDays'\n",
       "\n",
       "\n"
      ],
      "text/plain": [
       " [1] \"lon\"           \"lat\"           \"etopo1\"        \"beetleAcres\"  \n",
       " [5] \"host\"          \"forest\"        \"mStdAge\"       \"density\"      \n",
       " [9] \"PctLarge\"      \"PctOld\"        \"vcc\"           \"mfri\"         \n",
       "[13] \"prs\"           \"pms\"           \"pls\"           \"GAP1\"         \n",
       "[17] \"GAP2\"          \"GAP3\"          \"vpd\"           \"cwd\"          \n",
       "[21] \"maxAugT\"       \"summerP0\"      \"Tmean\"         \"mi\"           \n",
       "[25] \"Tvar\"          \"wd\"            \"AugTmean\"      \"OctTmin\"      \n",
       "[29] \"AugMaxT\"       \"AugTmax\"       \"Acs\"           \"MarMin\"       \n",
       "[33] \"ddAugJun\"      \"ddAugJul\"      \"JanTmin\"       \"PPT\"          \n",
       "[37] \"summerP2\"      \"TMarAug\"       \"Mar20\"         \"fallTmean\"    \n",
       "[41] \"MarTmin\"       \"maxT\"          \"Tmin\"          \"winterMin\"    \n",
       "[45] \"summerTmean\"   \"Pmean\"         \"summerP1\"      \"minT\"         \n",
       "[49] \"JanMin\"        \"TOctSep\"       \"Jan20\"         \"PcumOctSep\"   \n",
       "[53] \"logSprsCPA.p1\" \"SprsFires\"     \"PctSprs\"       \"SprsAcre\"     \n",
       "[57] \"SprsDays\"      \"OutDays\"      "
      ]
     },
     "metadata": {},
     "output_type": "display_data"
    }
   ],
   "source": [
    "names(data)"
   ]
  },
  {
   "cell_type": "code",
   "execution_count": 4,
   "metadata": {
    "collapsed": true
   },
   "outputs": [],
   "source": [
    "# remove 'logSprsCPA.p1' and 'SprsDays' due to small sample sizes\n",
    "drops <- c('logSprsCPA.p1', 'SprsDays')\n",
    "data <- data[,!(names(data) %in% drops)]"
   ]
  },
  {
   "cell_type": "code",
   "execution_count": 8,
   "metadata": {
    "collapsed": false
   },
   "outputs": [
    {
     "name": "stdout",
     "output_type": "stream",
     "text": [
      "te(lon) + te(lat) + te(etopo1) + te(host) + te(forest) + te(mStdAge) + te(density) + te(PctLarge) + te(PctOld) + te(vcc) + te(mfri) + te(prs) + te(pms) + te(pls) + te(GAP1) + te(GAP2) + te(GAP3) + te(vpd) + te(cwd) + te(maxAugT) + te(summerP0) + te(Tmean) + te(mi) + te(Tvar) + te(wd) + te(AugTmean) + te(OctTmin) + te(AugMaxT) + te(AugTmax) + te(Acs) + te(MarMin) + te(ddAugJun) + te(ddAugJul) + te(JanTmin) + te(PPT) + te(summerP2) + te(TMarAug) + te(Mar20) + te(fallTmean) + te(MarTmin) + te(maxT) + te(Tmin) + te(winterMin) + te(summerTmean) + te(Pmean) + te(summerP1) + te(minT) + te(JanMin) + te(TOctSep) + te(Jan20) + te(PcumOctSep) + te(SprsFires) + te(PctSprs) + te(SprsAcre) + te(OutDays) + "
     ]
    }
   ],
   "source": [
    "for (field in names(data)) {\n",
    "  if (field != 'beetleAcres') {\n",
    "    cat(sprintf('te(%s) + ', field))   \n",
    "  }\n",
    "}"
   ]
  },
  {
   "cell_type": "code",
   "execution_count": 10,
   "metadata": {
    "collapsed": false
   },
   "outputs": [
    {
     "data": {
      "text/plain": [
       "   user  system elapsed \n",
       " 47.322   0.402  52.141 "
      ]
     },
     "metadata": {},
     "output_type": "display_data"
    }
   ],
   "source": [
    "# GAM iteration:\n",
    "ptm <- proc.time()\n",
    "mod <- gam(\n",
    "    log(beetleAcres) ~ te(lon) + te(lat) + te(etopo1) + te(mStdAge) + \n",
    "    te(density) + te(PctLarge) + te(PctOld) + vcc + te(mfri) + te(prs) + te(pms) + \n",
    "    te(pls) + GAP1 + GAP2 + GAP3 + te(vpd) + te(cwd) + maxAugT + te(summerP0) + \n",
    "    te(Tmean) + te(mi) + te(Tvar) + te(wd) + te(AugTmean) + te(OctTmin) + te(AugMaxT) + \n",
    "    te(AugTmax) + te(Acs) + te(MarMin) + te(ddAugJun) + te(ddAugJul) + te(JanTmin) + \n",
    "    te(PPT) + te(summerP2) + te(TMarAug) + te(Mar20) + te(fallTmean) + te(MarTmin) + \n",
    "    te(maxT) + te(Tmin) + te(winterMin) + te(summerTmean) + te(Pmean) + te(summerP1) + \n",
    "    te(minT) + te(JanMin) + te(TOctSep) + te(Jan20) + te(PcumOctSep) + \n",
    "    te(SprsFires) + te(PctSprs) + te(SprsAcre) + te(OutDays),\n",
    "    data=data) # first GCV = 2.3707\n",
    "proc.time() - ptm"
   ]
  },
  {
   "cell_type": "code",
   "execution_count": null,
   "metadata": {
    "collapsed": true
   },
   "outputs": [],
   "source": []
  }
 ],
 "metadata": {
  "kernelspec": {
   "display_name": "R",
   "language": "R",
   "name": "ir"
  },
  "language_info": {
   "codemirror_mode": "r",
   "file_extension": ".r",
   "mimetype": "text/x-r-source",
   "name": "R",
   "pygments_lexer": "r",
   "version": "3.4.4"
  }
 },
 "nbformat": 4,
 "nbformat_minor": 2
}
