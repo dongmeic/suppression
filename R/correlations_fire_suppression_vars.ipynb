{
 "cells": [
  {
   "cell_type": "code",
   "execution_count": 1,
   "metadata": {
    "collapsed": false
   },
   "outputs": [
    {
     "data": {
      "text/html": [
       "<table>\n",
       "<thead><tr><th scope=col>lon</th><th scope=col>lat</th><th scope=col>etopo1</th><th scope=col>beetleAcres</th><th scope=col>host</th><th scope=col>forest</th><th scope=col>mStdAge</th><th scope=col>density</th><th scope=col>PctLarge</th><th scope=col>PctOld</th><th scope=col>⋯</th><th scope=col>minT</th><th scope=col>JanMin</th><th scope=col>TOctSep</th><th scope=col>Jan20</th><th scope=col>PcumOctSep</th><th scope=col>SprsFires</th><th scope=col>PctSprs</th><th scope=col>SprsAcre</th><th scope=col>SprsDays</th><th scope=col>OutDays</th></tr></thead>\n",
       "<tbody>\n",
       "\t<tr><td>-124.2945  </td><td>42.21193   </td><td>387.5008   </td><td>2.10       </td><td>1          </td><td>1          </td><td>102.39621  </td><td>51167.16   </td><td>0.1931126  </td><td>0.00000000 </td><td>⋯          </td><td>-1.701227  </td><td> 0.2686584 </td><td>10.650637  </td><td>0          </td><td>3508.975   </td><td>2          </td><td>1.0000000  </td><td>   0.200000</td><td> 0.0       </td><td> 3.5       </td></tr>\n",
       "\t<tr><td>-123.8987  </td><td>40.71212   </td><td>554.1549   </td><td>0.80       </td><td>0          </td><td>1          </td><td> 55.00000  </td><td>48183.45   </td><td>0.3004344  </td><td>0.11428571 </td><td>⋯          </td><td>-3.631704  </td><td>-1.6740057 </td><td> 9.548764  </td><td>0          </td><td>3029.574   </td><td>1          </td><td>1.0000000  </td><td>  14.400000</td><td> 0.0       </td><td>11.0       </td></tr>\n",
       "\t<tr><td>-123.9778  </td><td>41.15724   </td><td>462.4003   </td><td>0.46       </td><td>1          </td><td>1          </td><td> 24.51245  </td><td>51675.95   </td><td>0.2191781  </td><td>0.06666667 </td><td>⋯          </td><td>-3.165836  </td><td>-1.3108726 </td><td>10.921748  </td><td>0          </td><td>2914.449   </td><td>7          </td><td>0.8750000  </td><td>   8.257143</td><td> 3.0       </td><td> 6.0       </td></tr>\n",
       "\t<tr><td>-124.0749  </td><td>41.69113   </td><td>310.1873   </td><td>0.70       </td><td>1          </td><td>1          </td><td> 64.69794  </td><td>58227.45   </td><td>0.2395833  </td><td>0.07954546 </td><td>⋯          </td><td>-2.734460  </td><td>-0.7594389 </td><td>11.435045  </td><td>0          </td><td>3241.801   </td><td>1          </td><td>0.3333333  </td><td>   0.100000</td><td> 0.0       </td><td> 1.0       </td></tr>\n",
       "\t<tr><td>-123.6292  </td><td>39.83341   </td><td>636.2545   </td><td>0.70       </td><td>1          </td><td>1          </td><td> 78.60288  </td><td>47511.05   </td><td>0.3593750  </td><td>0.50000000 </td><td>⋯          </td><td>-4.173242  </td><td>-2.0681493 </td><td>10.979370  </td><td>0          </td><td>2751.259   </td><td>1          </td><td>1.0000000  </td><td>3597.000000</td><td>34.0       </td><td>72.0       </td></tr>\n",
       "\t<tr><td>-123.8913  </td><td>41.34770   </td><td>354.7943   </td><td>0.46       </td><td>1          </td><td>0          </td><td> 84.20680  </td><td>52603.24   </td><td>0.1860465  </td><td>0.01282051 </td><td>⋯          </td><td>-3.712275  </td><td>-1.7491565 </td><td>11.032777  </td><td>0          </td><td>2947.334   </td><td>6          </td><td>1.0000000  </td><td>   1.433333</td><td> 0.5       </td><td> 1.0       </td></tr>\n",
       "</tbody>\n",
       "</table>\n"
      ],
      "text/latex": [
       "\\begin{tabular}{r|lllllllllllllllllllllllllllllllllllllllllllllllllllllllll}\n",
       " lon & lat & etopo1 & beetleAcres & host & forest & mStdAge & density & PctLarge & PctOld & ⋯ & minT & JanMin & TOctSep & Jan20 & PcumOctSep & SprsFires & PctSprs & SprsAcre & SprsDays & OutDays\\\\\n",
       "\\hline\n",
       "\t -124.2945   & 42.21193    & 387.5008    & 2.10        & 1           & 1           & 102.39621   & 51167.16    & 0.1931126   & 0.00000000  & ⋯           & -1.701227   &  0.2686584  & 10.650637   & 0           & 3508.975    & 2           & 1.0000000   &    0.200000 &  0.0        &  3.5       \\\\\n",
       "\t -123.8987   & 40.71212    & 554.1549    & 0.80        & 0           & 1           &  55.00000   & 48183.45    & 0.3004344   & 0.11428571  & ⋯           & -3.631704   & -1.6740057  &  9.548764   & 0           & 3029.574    & 1           & 1.0000000   &   14.400000 &  0.0        & 11.0       \\\\\n",
       "\t -123.9778   & 41.15724    & 462.4003    & 0.46        & 1           & 1           &  24.51245   & 51675.95    & 0.2191781   & 0.06666667  & ⋯           & -3.165836   & -1.3108726  & 10.921748   & 0           & 2914.449    & 7           & 0.8750000   &    8.257143 &  3.0        &  6.0       \\\\\n",
       "\t -124.0749   & 41.69113    & 310.1873    & 0.70        & 1           & 1           &  64.69794   & 58227.45    & 0.2395833   & 0.07954546  & ⋯           & -2.734460   & -0.7594389  & 11.435045   & 0           & 3241.801    & 1           & 0.3333333   &    0.100000 &  0.0        &  1.0       \\\\\n",
       "\t -123.6292   & 39.83341    & 636.2545    & 0.70        & 1           & 1           &  78.60288   & 47511.05    & 0.3593750   & 0.50000000  & ⋯           & -4.173242   & -2.0681493  & 10.979370   & 0           & 2751.259    & 1           & 1.0000000   & 3597.000000 & 34.0        & 72.0       \\\\\n",
       "\t -123.8913   & 41.34770    & 354.7943    & 0.46        & 1           & 0           &  84.20680   & 52603.24    & 0.1860465   & 0.01282051  & ⋯           & -3.712275   & -1.7491565  & 11.032777   & 0           & 2947.334    & 6           & 1.0000000   &    1.433333 &  0.5        &  1.0       \\\\\n",
       "\\end{tabular}\n"
      ],
      "text/markdown": [
       "\n",
       "lon | lat | etopo1 | beetleAcres | host | forest | mStdAge | density | PctLarge | PctOld | ⋯ | minT | JanMin | TOctSep | Jan20 | PcumOctSep | SprsFires | PctSprs | SprsAcre | SprsDays | OutDays | \n",
       "|---|---|---|---|---|---|\n",
       "| -124.2945   | 42.21193    | 387.5008    | 2.10        | 1           | 1           | 102.39621   | 51167.16    | 0.1931126   | 0.00000000  | ⋯           | -1.701227   |  0.2686584  | 10.650637   | 0           | 3508.975    | 2           | 1.0000000   |    0.200000 |  0.0        |  3.5        | \n",
       "| -123.8987   | 40.71212    | 554.1549    | 0.80        | 0           | 1           |  55.00000   | 48183.45    | 0.3004344   | 0.11428571  | ⋯           | -3.631704   | -1.6740057  |  9.548764   | 0           | 3029.574    | 1           | 1.0000000   |   14.400000 |  0.0        | 11.0        | \n",
       "| -123.9778   | 41.15724    | 462.4003    | 0.46        | 1           | 1           |  24.51245   | 51675.95    | 0.2191781   | 0.06666667  | ⋯           | -3.165836   | -1.3108726  | 10.921748   | 0           | 2914.449    | 7           | 0.8750000   |    8.257143 |  3.0        |  6.0        | \n",
       "| -124.0749   | 41.69113    | 310.1873    | 0.70        | 1           | 1           |  64.69794   | 58227.45    | 0.2395833   | 0.07954546  | ⋯           | -2.734460   | -0.7594389  | 11.435045   | 0           | 3241.801    | 1           | 0.3333333   |    0.100000 |  0.0        |  1.0        | \n",
       "| -123.6292   | 39.83341    | 636.2545    | 0.70        | 1           | 1           |  78.60288   | 47511.05    | 0.3593750   | 0.50000000  | ⋯           | -4.173242   | -2.0681493  | 10.979370   | 0           | 2751.259    | 1           | 1.0000000   | 3597.000000 | 34.0        | 72.0        | \n",
       "| -123.8913   | 41.34770    | 354.7943    | 0.46        | 1           | 0           |  84.20680   | 52603.24    | 0.1860465   | 0.01282051  | ⋯           | -3.712275   | -1.7491565  | 11.032777   | 0           | 2947.334    | 6           | 1.0000000   |    1.433333 |  0.5        |  1.0        | \n",
       "\n",
       "\n"
      ],
      "text/plain": [
       "  lon       lat      etopo1   beetleAcres host forest mStdAge   density \n",
       "1 -124.2945 42.21193 387.5008 2.10        1    1      102.39621 51167.16\n",
       "2 -123.8987 40.71212 554.1549 0.80        0    1       55.00000 48183.45\n",
       "3 -123.9778 41.15724 462.4003 0.46        1    1       24.51245 51675.95\n",
       "4 -124.0749 41.69113 310.1873 0.70        1    1       64.69794 58227.45\n",
       "5 -123.6292 39.83341 636.2545 0.70        1    1       78.60288 47511.05\n",
       "6 -123.8913 41.34770 354.7943 0.46        1    0       84.20680 52603.24\n",
       "  PctLarge  PctOld     ⋯ minT      JanMin     TOctSep   Jan20 PcumOctSep\n",
       "1 0.1931126 0.00000000 ⋯ -1.701227  0.2686584 10.650637 0     3508.975  \n",
       "2 0.3004344 0.11428571 ⋯ -3.631704 -1.6740057  9.548764 0     3029.574  \n",
       "3 0.2191781 0.06666667 ⋯ -3.165836 -1.3108726 10.921748 0     2914.449  \n",
       "4 0.2395833 0.07954546 ⋯ -2.734460 -0.7594389 11.435045 0     3241.801  \n",
       "5 0.3593750 0.50000000 ⋯ -4.173242 -2.0681493 10.979370 0     2751.259  \n",
       "6 0.1860465 0.01282051 ⋯ -3.712275 -1.7491565 11.032777 0     2947.334  \n",
       "  SprsFires PctSprs   SprsAcre    SprsDays OutDays\n",
       "1 2         1.0000000    0.200000  0.0      3.5   \n",
       "2 1         1.0000000   14.400000  0.0     11.0   \n",
       "3 7         0.8750000    8.257143  3.0      6.0   \n",
       "4 1         0.3333333    0.100000  0.0      1.0   \n",
       "5 1         1.0000000 3597.000000 34.0     72.0   \n",
       "6 6         1.0000000    1.433333  0.5      1.0   "
      ]
     },
     "metadata": {},
     "output_type": "display_data"
    }
   ],
   "source": [
    "ROOT <- '/Users/dongmeichen/Documents/beetle'\n",
    "DATA <- sprintf('%s/data', ROOT)\n",
    "data <- read.csv(sprintf('%s/mpb10km_data_wo_costs.csv', DATA))\n",
    "head(data)"
   ]
  },
  {
   "cell_type": "code",
   "execution_count": 2,
   "metadata": {
    "collapsed": false
   },
   "outputs": [
    {
     "data": {
      "text/plain": [
       "\n",
       "\tPearson's product-moment correlation\n",
       "\n",
       "data:  data$SprsFires and data$PctSprs\n",
       "t = 18.696, df = 2817, p-value < 2.2e-16\n",
       "alternative hypothesis: true correlation is not equal to 0\n",
       "95 percent confidence interval:\n",
       " 0.2989890 0.3646841\n",
       "sample estimates:\n",
       "      cor \n",
       "0.3322394 \n"
      ]
     },
     "metadata": {},
     "output_type": "display_data"
    }
   ],
   "source": [
    "cor.test(data$SprsFires, data$PctSprs)"
   ]
  },
  {
   "cell_type": "code",
   "execution_count": 3,
   "metadata": {
    "collapsed": false
   },
   "outputs": [
    {
     "data": {
      "text/plain": [
       "\n",
       "\tPearson's product-moment correlation\n",
       "\n",
       "data:  data$SprsAcre and data$PctSprs\n",
       "t = -1.7295, df = 2817, p-value = 0.08383\n",
       "alternative hypothesis: true correlation is not equal to 0\n",
       "95 percent confidence interval:\n",
       " -0.069403084  0.004354054\n",
       "sample estimates:\n",
       "        cor \n",
       "-0.03256886 \n"
      ]
     },
     "metadata": {},
     "output_type": "display_data"
    }
   ],
   "source": [
    "cor.test(data$SprsAcre, data$PctSprs)"
   ]
  },
  {
   "cell_type": "code",
   "execution_count": 4,
   "metadata": {
    "collapsed": false
   },
   "outputs": [
    {
     "data": {
      "text/plain": [
       "\n",
       "\tPearson's product-moment correlation\n",
       "\n",
       "data:  data$SprsAcre and data$SprsFires\n",
       "t = -3.1135, df = 2817, p-value = 0.001868\n",
       "alternative hypothesis: true correlation is not equal to 0\n",
       "95 percent confidence interval:\n",
       " -0.09527194 -0.02168945\n",
       "sample estimates:\n",
       "        cor \n",
       "-0.05856023 \n"
      ]
     },
     "metadata": {},
     "output_type": "display_data"
    }
   ],
   "source": [
    "cor.test(data$SprsAcre, data$SprsFires)"
   ]
  },
  {
   "cell_type": "code",
   "execution_count": null,
   "metadata": {
    "collapsed": true
   },
   "outputs": [],
   "source": []
  }
 ],
 "metadata": {
  "kernelspec": {
   "display_name": "R",
   "language": "R",
   "name": "ir"
  },
  "language_info": {
   "codemirror_mode": "r",
   "file_extension": ".r",
   "mimetype": "text/x-r-source",
   "name": "R",
   "pygments_lexer": "r",
   "version": "3.4.4"
  }
 },
 "nbformat": 4,
 "nbformat_minor": 2
}
