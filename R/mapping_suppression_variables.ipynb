{
 "cells": [
  {
   "cell_type": "code",
   "execution_count": 1,
   "metadata": {
    "collapsed": false
   },
   "outputs": [
    {
     "name": "stderr",
     "output_type": "stream",
     "text": [
      "Loading required package: raster\n",
      "Loading required package: sp\n",
      "Loading required package: lattice\n",
      "Loading required package: latticeExtra\n",
      "Loading required package: RColorBrewer\n",
      "Loading required package: ape\n",
      "\n",
      "Attaching package: ‘ape’\n",
      "\n",
      "The following objects are masked from ‘package:raster’:\n",
      "\n",
      "    rotate, zoom\n",
      "\n",
      "rgdal: version: 1.2-18, (SVN revision 718)\n",
      " Geospatial Data Abstraction Library extensions to R successfully loaded\n",
      " Loaded GDAL runtime: GDAL 2.1.3, released 2017/20/01\n",
      " Path to GDAL shared files: /Library/Frameworks/R.framework/Versions/3.4/Resources/library/rgdal/gdal\n",
      " GDAL binary built with GEOS: FALSE \n",
      " Loaded PROJ.4 runtime: Rel. 4.9.3, 15 August 2016, [PJ_VERSION: 493]\n",
      " Path to PROJ.4 shared files: /Library/Frameworks/R.framework/Versions/3.4/Resources/library/rgdal/proj\n",
      " Linking to sp version: 1.2-7 \n",
      "Loading required package: spData\n",
      "To access larger datasets in this package, install the spDataLarge\n",
      "package with: `install.packages('spDataLarge',\n",
      "repos='https://nowosad.github.io/drat/', type='source'))`\n"
     ]
    }
   ],
   "source": [
    "library(rasterVis)\n",
    "library(colorRamps)\n",
    "library(BAMMtools)\n",
    "library(rgdal)\n",
    "library(raster)\n",
    "library(classInt)\n",
    "library(RColorBrewer)\n",
    "library(scales)"
   ]
  },
  {
   "cell_type": "code",
   "execution_count": 2,
   "metadata": {
    "collapsed": true
   },
   "outputs": [],
   "source": [
    "path <- '/Users/dongmeichen/Documents/beetle/data/'\n",
    "out <- '/Users/dongmeichen/Documents/beetle/images/DEA/'"
   ]
  },
  {
   "cell_type": "code",
   "execution_count": 3,
   "metadata": {
    "collapsed": false
   },
   "outputs": [
    {
     "name": "stdout",
     "output_type": "stream",
     "text": [
      "OGR data source with driver: ESRI Shapefile \n",
      "Source: \"/Users/dongmeichen/Documents/beetle/shp\", layer: \"mpb10km\"\n",
      "with 17 features\n",
      "It has 2 fields\n"
     ]
    }
   ],
   "source": [
    "mpb10km.path <- \"/Users/dongmeichen/Documents/beetle/shp\"\n",
    "mpb10km <- readOGR(dsn = mpb10km.path, layer = \"mpb10km\")\n",
    "crs <- proj4string(mpb10km)\n",
    "lonlat <- CRS(\"+proj=longlat +datum=WGS84 +ellps=WGS84 +towgs84=0,0,0\")"
   ]
  },
  {
   "cell_type": "code",
   "execution_count": 4,
   "metadata": {
    "collapsed": true
   },
   "outputs": [],
   "source": [
    "df2spdf <- function(col1, col2, colname1, colname2, df){\n",
    "  xy <- data.frame(df[,c(col1,col2)])\n",
    "  coordinates(xy) <- c(colname1, colname2)\n",
    "  proj4string(xy) <- lonlat\n",
    "  xy.n <- spTransform(xy, crs)\n",
    "  spdf <- SpatialPointsDataFrame(coords = xy.n, data = df, proj4string = crs)\n",
    "  return(spdf)\n",
    "}"
   ]
  },
  {
   "cell_type": "code",
   "execution_count": 5,
   "metadata": {
    "collapsed": false
   },
   "outputs": [],
   "source": [
    "indata <- read.csv(paste0(path, 'mpb10km_data.csv'))"
   ]
  },
  {
   "cell_type": "code",
   "execution_count": 6,
   "metadata": {
    "collapsed": true
   },
   "outputs": [],
   "source": [
    "GAPs <- read.csv(paste0(path, 'mpb10km_GAPs.csv'))\n",
    "indata <- cbind(indata, GAPs)"
   ]
  },
  {
   "cell_type": "code",
   "execution_count": 7,
   "metadata": {
    "collapsed": true
   },
   "outputs": [],
   "source": [
    "# vcc values > 6 indicate areas of no vegetation, replace with 0s\n",
    "indata$vcc[indata$vcc > 6] <- NA\n",
    "indata$prs[indata$prs > 20] <- NA\n",
    "indata$pms[indata$pms > 20] <- NA\n",
    "indata$pls[indata$pls > 20] <- NA\n",
    "\n",
    "# Mean fire return interval where there are no trees is effectively \n",
    "# infinite--set to 22 (> 1000 years)\n",
    "indata$mfri[indata$mfri > 22] <- NA"
   ]
  },
  {
   "cell_type": "code",
   "execution_count": 8,
   "metadata": {
    "collapsed": true
   },
   "outputs": [],
   "source": [
    "df <- subset(indata, !is.na(beetleAcres))\n",
    "df$severity <- ifelse(df$prs >= 17 & df$mfri >= 16, 'replacement', ifelse(df$pls >= 17 & df$mfri <= 4, 'low', 'mixed'))\n",
    "df$severity.no <- ifelse(df$severity == 'replacement', 3, ifelse(df$severity == 'low', 1, 2))\n",
    "spdf <- df2spdf(1, 2, 'lon', 'lat', df)"
   ]
  },
  {
   "cell_type": "code",
   "execution_count": 9,
   "metadata": {
    "collapsed": false
   },
   "outputs": [
    {
     "name": "stderr",
     "output_type": "stream",
     "text": [
      "Loading required namespace: ncdf4\n"
     ]
    }
   ],
   "source": [
    "mpb10km.pts.r <- raster(\"/Users/dongmeichen/Documents/beetle/ncfiles/mpb10km_grid.nc\", varname = \"etopo1\")"
   ]
  },
  {
   "cell_type": "code",
   "execution_count": 10,
   "metadata": {
    "collapsed": false
   },
   "outputs": [
    {
     "data": {
      "text/html": [
       "<table>\n",
       "<thead><tr><th></th><th scope=col>lon</th><th scope=col>lat</th><th scope=col>etopo1</th><th scope=col>x</th><th scope=col>y</th><th scope=col>beetleAcres</th><th scope=col>host</th><th scope=col>forest</th><th scope=col>mStdAge</th><th scope=col>density</th><th scope=col>⋯</th><th scope=col>SprsCPA</th><th scope=col>SprsFires</th><th scope=col>PctSprs</th><th scope=col>SprsAcre</th><th scope=col>SprsDays</th><th scope=col>OutDays</th><th scope=col>GAPs</th><th scope=col>wilderness</th><th scope=col>severity</th><th scope=col>severity.no</th></tr></thead>\n",
       "<tbody>\n",
       "\t<tr><th scope=row>7</th><td>-124.1712</td><td>40.22942 </td><td>365.17722</td><td>-990000  </td><td>-460000  </td><td>0.800    </td><td>1        </td><td>1        </td><td> 25.50000</td><td>58050.83 </td><td>⋯        </td><td>      NA </td><td>NA       </td><td> NA      </td><td> NA      </td><td>NA       </td><td>NA       </td><td>0        </td><td>0        </td><td>mixed    </td><td> 2       </td></tr>\n",
       "\t<tr><th scope=row>17</th><td>-124.0860</td><td>40.42007 </td><td>493.08517</td><td>-980000  </td><td>-440000  </td><td>0.800    </td><td>0        </td><td>1        </td><td> 42.46217</td><td>52809.04 </td><td>⋯        </td><td>      NA </td><td>NA       </td><td> NA      </td><td> NA      </td><td>NA       </td><td>NA       </td><td>0        </td><td>0        </td><td>mixed    </td><td> 2       </td></tr>\n",
       "\t<tr><th scope=row>19</th><td>-124.1177</td><td>40.59810 </td><td>204.08624</td><td>-980000  </td><td>-420000  </td><td>0.800    </td><td>0        </td><td>1        </td><td> 35.00000</td><td>50636.57 </td><td>⋯        </td><td>538.4615 </td><td> 1       </td><td>0.5      </td><td>0.1      </td><td> 2       </td><td> 7       </td><td>0        </td><td>0        </td><td>mixed    </td><td> 2       </td></tr>\n",
       "\t<tr><th scope=row>33</th><td>-123.9379</td><td>40.25447 </td><td>487.52399</td><td>-970000  </td><td>-460000  </td><td>0.800    </td><td>1        </td><td>1        </td><td>169.82977</td><td>54385.98 </td><td>⋯        </td><td>      NA </td><td>NA       </td><td> NA      </td><td> NA      </td><td>NA       </td><td>NA       </td><td>0        </td><td>0        </td><td>mixed    </td><td> 2       </td></tr>\n",
       "\t<tr><th scope=row>34</th><td>-123.9535</td><td>40.34353 </td><td>350.69608</td><td>-970000  </td><td>-450000  </td><td>0.800    </td><td>0        </td><td>1        </td><td>249.11995</td><td>47005.25 </td><td>⋯        </td><td>      NA </td><td>NA       </td><td> NA      </td><td> NA      </td><td>NA       </td><td>NA       </td><td>2        </td><td>0        </td><td>mixed    </td><td> 2       </td></tr>\n",
       "\t<tr><th scope=row>44</th><td>-124.2107</td><td>41.76738 </td><td> 13.40179</td><td>-970000  </td><td>-290000  </td><td>1.155    </td><td>1        </td><td>0        </td><td> 85.00000</td><td>12070.25 </td><td>⋯        </td><td>      NA </td><td>NA       </td><td> NA      </td><td> NA      </td><td>NA       </td><td>NA       </td><td>0        </td><td>0        </td><td>NA       </td><td>NA       </td></tr>\n",
       "</tbody>\n",
       "</table>\n"
      ],
      "text/latex": [
       "\\begin{tabular}{r|llllllllllllllllllllllllllllllllllllllllllllllllllllllllllllllllll}\n",
       "  & lon & lat & etopo1 & x & y & beetleAcres & host & forest & mStdAge & density & ⋯ & SprsCPA & SprsFires & PctSprs & SprsAcre & SprsDays & OutDays & GAPs & wilderness & severity & severity.no\\\\\n",
       "\\hline\n",
       "\t7 & -124.1712 & 40.22942  & 365.17722 & -990000   & -460000   & 0.800     & 1         & 1         &  25.50000 & 58050.83  & ⋯         &       NA  & NA        &  NA       &  NA       & NA        & NA        & 0         & 0         & mixed     &  2       \\\\\n",
       "\t17 & -124.0860 & 40.42007  & 493.08517 & -980000   & -440000   & 0.800     & 0         & 1         &  42.46217 & 52809.04  & ⋯         &       NA  & NA        &  NA       &  NA       & NA        & NA        & 0         & 0         & mixed     &  2       \\\\\n",
       "\t19 & -124.1177 & 40.59810  & 204.08624 & -980000   & -420000   & 0.800     & 0         & 1         &  35.00000 & 50636.57  & ⋯         & 538.4615  &  1        & 0.5       & 0.1       &  2        &  7        & 0         & 0         & mixed     &  2       \\\\\n",
       "\t33 & -123.9379 & 40.25447  & 487.52399 & -970000   & -460000   & 0.800     & 1         & 1         & 169.82977 & 54385.98  & ⋯         &       NA  & NA        &  NA       &  NA       & NA        & NA        & 0         & 0         & mixed     &  2       \\\\\n",
       "\t34 & -123.9535 & 40.34353  & 350.69608 & -970000   & -450000   & 0.800     & 0         & 1         & 249.11995 & 47005.25  & ⋯         &       NA  & NA        &  NA       &  NA       & NA        & NA        & 2         & 0         & mixed     &  2       \\\\\n",
       "\t44 & -124.2107 & 41.76738  &  13.40179 & -970000   & -290000   & 1.155     & 1         & 0         &  85.00000 & 12070.25  & ⋯         &       NA  & NA        &  NA       &  NA       & NA        & NA        & 0         & 0         & NA        & NA       \\\\\n",
       "\\end{tabular}\n"
      ],
      "text/markdown": [
       "\n",
       "| <!--/--> | lon | lat | etopo1 | x | y | beetleAcres | host | forest | mStdAge | density | ⋯ | SprsCPA | SprsFires | PctSprs | SprsAcre | SprsDays | OutDays | GAPs | wilderness | severity | severity.no | \n",
       "|---|---|---|---|---|---|\n",
       "| 7 | -124.1712 | 40.22942  | 365.17722 | -990000   | -460000   | 0.800     | 1         | 1         |  25.50000 | 58050.83  | ⋯         |       NA  | NA        |  NA       |  NA       | NA        | NA        | 0         | 0         | mixed     |  2        | \n",
       "| 17 | -124.0860 | 40.42007  | 493.08517 | -980000   | -440000   | 0.800     | 0         | 1         |  42.46217 | 52809.04  | ⋯         |       NA  | NA        |  NA       |  NA       | NA        | NA        | 0         | 0         | mixed     |  2        | \n",
       "| 19 | -124.1177 | 40.59810  | 204.08624 | -980000   | -420000   | 0.800     | 0         | 1         |  35.00000 | 50636.57  | ⋯         | 538.4615  |  1        | 0.5       | 0.1       |  2        |  7        | 0         | 0         | mixed     |  2        | \n",
       "| 33 | -123.9379 | 40.25447  | 487.52399 | -970000   | -460000   | 0.800     | 1         | 1         | 169.82977 | 54385.98  | ⋯         |       NA  | NA        |  NA       |  NA       | NA        | NA        | 0         | 0         | mixed     |  2        | \n",
       "| 34 | -123.9535 | 40.34353  | 350.69608 | -970000   | -450000   | 0.800     | 0         | 1         | 249.11995 | 47005.25  | ⋯         |       NA  | NA        |  NA       |  NA       | NA        | NA        | 2         | 0         | mixed     |  2        | \n",
       "| 44 | -124.2107 | 41.76738  |  13.40179 | -970000   | -290000   | 1.155     | 1         | 0         |  85.00000 | 12070.25  | ⋯         |       NA  | NA        |  NA       |  NA       | NA        | NA        | 0         | 0         | NA        | NA        | \n",
       "\n",
       "\n"
      ],
      "text/plain": [
       "   lon       lat      etopo1    x       y       beetleAcres host forest\n",
       "7  -124.1712 40.22942 365.17722 -990000 -460000 0.800       1    1     \n",
       "17 -124.0860 40.42007 493.08517 -980000 -440000 0.800       0    1     \n",
       "19 -124.1177 40.59810 204.08624 -980000 -420000 0.800       0    1     \n",
       "33 -123.9379 40.25447 487.52399 -970000 -460000 0.800       1    1     \n",
       "34 -123.9535 40.34353 350.69608 -970000 -450000 0.800       0    1     \n",
       "44 -124.2107 41.76738  13.40179 -970000 -290000 1.155       1    0     \n",
       "   mStdAge   density  ⋯ SprsCPA  SprsFires PctSprs SprsAcre SprsDays OutDays\n",
       "7   25.50000 58050.83 ⋯       NA NA         NA      NA      NA       NA     \n",
       "17  42.46217 52809.04 ⋯       NA NA         NA      NA      NA       NA     \n",
       "19  35.00000 50636.57 ⋯ 538.4615  1        0.5     0.1       2        7     \n",
       "33 169.82977 54385.98 ⋯       NA NA         NA      NA      NA       NA     \n",
       "34 249.11995 47005.25 ⋯       NA NA         NA      NA      NA       NA     \n",
       "44  85.00000 12070.25 ⋯       NA NA         NA      NA      NA       NA     \n",
       "   GAPs wilderness severity severity.no\n",
       "7  0    0          mixed     2         \n",
       "17 0    0          mixed     2         \n",
       "19 0    0          mixed     2         \n",
       "33 0    0          mixed     2         \n",
       "34 2    0          mixed     2         \n",
       "44 0    0          NA       NA         "
      ]
     },
     "metadata": {},
     "output_type": "display_data"
    }
   ],
   "source": [
    "head(spdf)"
   ]
  },
  {
   "cell_type": "code",
   "execution_count": 11,
   "metadata": {
    "collapsed": true
   },
   "outputs": [],
   "source": [
    "# functions\n",
    "mapping.LF <- function(shp, var){\n",
    "    if(var %in% c('pls', 'pms', 'prs')){\n",
    "        labels <- c(\"0-5\", \"6-10\", \"11-15\", \"16-20\", \"21-25\", \"26-30\",\n",
    "                    \"31-35\", \"36-40\", \"41-45\", \"46-50\", \"51-55\", \"56-60\",\n",
    "                    \"61-65\", \"66-70\", \"71-75\", \"76-80\", \"81-85\", \"86-90\", \"91-95\", \"96-100\")\n",
    "    if(var == 'pls'){\n",
    "        title <- \"Percent of low-severity fires\"\n",
    "    }else if(var == 'pms'){\n",
    "        title <- \"Percent of mixed-severity fires\"\n",
    "    }else{\n",
    "        title <- \"Percent of replacement-severity fires\"\n",
    "        labels <- c(\"0-5\", \"6-10\", \"11-15\", \"16-20\", \"21-25\", \"26-30\",\n",
    "                    \"31-35\", \"36-40\", \"41-45\", \"46-50\", \"51-55\", \"56-60\",\n",
    "                    \"61-65\", \"66-70\", \"71-75\", \"76-80\", \"81-85\", \"86-90\", \"96-100\")\n",
    "    }\n",
    "        cols <- matlab.like(20)\n",
    "    }else if(var == 'mfri'){\n",
    "        labels <- c(\"6-10\", \"11-15\", \"16-20\", \"21-25\", \"26-30\",\n",
    "                    \"31-35\", \"36-40\", \"41-45\", \"46-50\", \"51-60\", \"61-70\",\n",
    "                    \"71-80\", \"81-90\", \"91-100\", \"101-125\", \"126-150\", \"151-200\",\n",
    "                    \"201-300\", \"301-500\", \"501-1000\", \">1000\")\n",
    "        cols <- rev(matlab.like(22))\n",
    "        title <- \"Mean fire return interval\"\n",
    "    }else if(var == 'vcc'){\n",
    "        labels <- c(\"0-16\", \"17-33\", \"34-50\", \"51-66\", \"67-83\", \"84-100\")\n",
    "        cols <- brewer.pal(7,'BuGn')[-1]\n",
    "        title <- \"Vegetation condition class\"\n",
    "    }\n",
    "    shp <- shp[!is.na(shp@data[,var]),]\n",
    "    r <- rasterize(shp, mpb10km.pts.r, var, fun=mean, na.rm=TRUE) \n",
    "    r <- as.factor(r)\n",
    "    rat <- levels(r)[[1]]\n",
    "    rat[[\"labels\"]] <- labels\n",
    "    levels(r) <- rat\n",
    "    p <- levelplot(r, col.regions=cols, xlab=\"\", ylab=\"\",par.settings = list(axis.line = list(col = \"transparent\")), \n",
    "                    scales = list(draw = FALSE), margin=F, main=title)\n",
    "    p <- p + latticeExtra::layer(sp.polygons(mpb10km, lwd=0.5, col=scales::alpha(\"black\", alpha = 0.6)))\n",
    "    return(p)\n",
    "}"
   ]
  },
  {
   "cell_type": "code",
   "execution_count": 12,
   "metadata": {
    "collapsed": true
   },
   "outputs": [],
   "source": [
    "mapping.sprs <- function(shp, var, title, cols=\"YlOrRd\"){\n",
    "    shp <- shp[shp@data[,var] != Inf & !is.na(shp@data[,var]),]\n",
    "    qt99 <- quantile(shp@data[,var], 0.99)\n",
    "    shp <- shp[shp@data[,var] <= qt99,]\n",
    "    r <- rasterize(shp, mpb10km.pts.r, var, fun=mean, na.rm=TRUE)\n",
    "    ncls <- 6\n",
    "    brks <- getJenksBreaks(getValues(r), ncls)\n",
    "    #print(brks)\n",
    "    p <- levelplot(r, col.regions=brewer.pal(ncls,cols)[-1], cuts=ncls-1, at=brks, xlab=\"\", ylab=\"\", \n",
    "                   par.settings = list(axis.line = list(col = \"transparent\")), \n",
    "                   scales = list(draw = FALSE), margin=F, main=title)\n",
    "    p <- p + latticeExtra::layer(sp.polygons(mpb10km, lwd=0.5, col=scales::alpha(\"black\", alpha = 0.6)))\n",
    "    return(p)\n",
    "}"
   ]
  },
  {
   "cell_type": "code",
   "execution_count": 13,
   "metadata": {
    "collapsed": true
   },
   "outputs": [],
   "source": [
    "mapping.btl <- function(shp, var, title='MPB affected acres', cols=\"YlOrRd\"){\n",
    "    r <- rasterize(shp, mpb10km.pts.r, var, fun=mean, na.rm=TRUE)\n",
    "    ncls <- 6\n",
    "    brks <- getJenksBreaks(getValues(r), ncls+1)\n",
    "    p <- levelplot(r, col.regions=brewer.pal(ncls,cols), cuts=ncls, at=brks, xlab=\"\", ylab=\"\", \n",
    "                   par.settings = list(axis.line = list(col = \"transparent\")), \n",
    "                    scales = list(draw = FALSE), margin=F, main=title)\n",
    "    p <- p + latticeExtra::layer(sp.polygons(mpb10km, lwd=0.5, col=scales::alpha(\"black\", alpha = 0.6)))\n",
    "    return(p)\n",
    "}\n",
    "\n",
    "mapping.tree <- function(shp, var, title, cols=\"PuBuGn\"){\n",
    "    r <- rasterize(shp, mpb10km.pts.r, var, fun=mean, na.rm=TRUE)\n",
    "    ncls <- 6\n",
    "    brks <- getJenksBreaks(getValues(r), ncls)\n",
    "    if(var == 'host' | var == 'forest'){\n",
    "        labels <- c(\"No\", \"Yes\")\n",
    "        cols <- c(\"#d0d1e6\", \"#016c59\")\n",
    "        r <- as.factor(r)\n",
    "        rat <- levels(r)[[1]]\n",
    "        rat[[\"labels\"]] <- labels\n",
    "        levels(r) <- rat\n",
    "        p <- levelplot(r, col.regions=cols, xlab=\"\", ylab=\"\",par.settings = list(axis.line = list(col = \"transparent\")), \n",
    "                        scales = list(draw = FALSE), margin=F, main=title)\n",
    "    }else{\n",
    "        p <- levelplot(r, col.regions=brewer.pal(ncls,cols)[-1], cuts=ncls-1, at=brks, xlab=\"\", ylab=\"\", \n",
    "                       par.settings = list(axis.line = list(col = \"transparent\")), \n",
    "                        scales = list(draw = FALSE), margin=F, main=title)\n",
    "    }\n",
    "    p <- p + latticeExtra::layer(sp.polygons(mpb10km, lwd=0.5, col=scales::alpha(\"black\", alpha = 0.6)))\n",
    "    return(p)\n",
    "}"
   ]
  },
  {
   "cell_type": "code",
   "execution_count": 14,
   "metadata": {
    "collapsed": true
   },
   "outputs": [],
   "source": [
    "mapping.GAPs <- function(shp, var, title){\n",
    "    r <- rasterize(shp, mpb10km.pts.r, var, fun=mean, na.rm=TRUE)\n",
    "    r <- as.factor(r)\n",
    "    rat <- levels(r)[[1]]\n",
    "    rat[[\"labels\"]] <- c('0', '1', '2', '3', '4')\n",
    "    levels(r) <- rat\n",
    "    p <- levelplot(r, col.regions=c('Grey', brewer.pal(4,'Set1')), xlab=\"\", ylab=\"\",\n",
    "                    par.settings = list(axis.line = list(col = \"transparent\")), \n",
    "                    scales = list(draw = FALSE), margin=F, main=title)\n",
    "    p <- p + latticeExtra::layer(sp.polygons(mpb10km, lwd=0.5, col=scales::alpha(\"black\", alpha = 0.6)))\n",
    "    return(p)\n",
    "}"
   ]
  },
  {
   "cell_type": "code",
   "execution_count": 15,
   "metadata": {
    "collapsed": true
   },
   "outputs": [],
   "source": [
    "mapping.severity <- function(){\n",
    "    labels <- c(\"L\", \"M\", \"R\")\n",
    "    cols <- c(\"#e41a1c\", \"#4daf4a\", \"#377eb8\")\n",
    "    r <- rasterize(spdf, mpb10km.pts.r, \"severity.no\", fun=mean, na.rm=TRUE)\n",
    "    r <- as.factor(r)\n",
    "    rat <- levels(r)[[1]]\n",
    "    rat[[\"labels\"]] <- labels\n",
    "    levels(r) <- rat\n",
    "    title <- \"Fire severity\"\n",
    "    p <- levelplot(r, col.regions=cols, xlab=\"\", ylab=\"\",par.settings = list(axis.line = list(col = \"transparent\")), \n",
    "                    scales = list(draw = FALSE), margin=F, main=title)\n",
    "    p <- p + latticeExtra::layer(sp.polygons(mpb10km, lwd=0.5, col=scales::alpha(\"black\", alpha = 0.6)))\n",
    "    return(p)\n",
    "}"
   ]
  },
  {
   "cell_type": "code",
   "execution_count": 17,
   "metadata": {
    "collapsed": false
   },
   "outputs": [
    {
     "name": "stdout",
     "output_type": "stream",
     "text": [
      "[1] \"mStdAge\"\n",
      "[1] \"density\"\n",
      "[1] \"PctLarge\"\n",
      "[1] \"PctOld\"\n",
      "[1] \"forest\"\n",
      "[1] \"GAPs\"\n"
     ]
    },
    {
     "data": {
      "text/html": [
       "<strong>pdf:</strong> 2"
      ],
      "text/latex": [
       "\\textbf{pdf:} 2"
      ],
      "text/markdown": [
       "**pdf:** 2"
      ],
      "text/plain": [
       "pdf \n",
       "  2 "
      ]
     },
     "metadata": {},
     "output_type": "display_data"
    }
   ],
   "source": [
    "vars <- c(\"mStdAge\", \"density\", \"PctLarge\", \"PctOld\", \"forest\", 'GAPs')\n",
    "titles <- c('Stand age', 'Tree density', 'Ratio of large trees', \n",
    "            'Ratio of old trees', 'Forested area', 'GAP status')\n",
    "pos <- cbind(c(1,1),c(1,2),c(1,3),c(2,1),c(2,2),c(2,3))\n",
    "png(paste0(out,'stand_variable_maps.png'), width=12, height=8, units=\"in\", res=300)\n",
    "par(mfrow=c(2,3), xpd=FALSE, mar=rep(0.5,4))\n",
    "for(var in vars){\n",
    "    if(var != 'GAPs'){\n",
    "        p <- mapping.tree(spdf, var, titles[which(vars==var)])\n",
    "    }else{\n",
    "        p <- mapping.GAPs(spdf, var, 'GAP status')\n",
    "    }\n",
    "    print(p,split=c(pos[,which(vars==var)][2], pos[,which(vars==var)][1], 3, 2), newpage=FALSE) \n",
    "    print(var)\n",
    "}\n",
    "dev.off()"
   ]
  },
  {
   "cell_type": "code",
   "execution_count": 22,
   "metadata": {
    "collapsed": false
   },
   "outputs": [
    {
     "name": "stdout",
     "output_type": "stream",
     "text": [
      "[1] \"vcc\"\n",
      "[1] \"mfri\"\n",
      "[1] \"prs\"\n",
      "[1] \"pms\"\n",
      "[1] \"pls\"\n",
      "[1] \"severity.no\"\n"
     ]
    },
    {
     "data": {
      "text/html": [
       "<strong>pdf:</strong> 2"
      ],
      "text/latex": [
       "\\textbf{pdf:} 2"
      ],
      "text/markdown": [
       "**pdf:** 2"
      ],
      "text/plain": [
       "pdf \n",
       "  2 "
      ]
     },
     "metadata": {},
     "output_type": "display_data"
    }
   ],
   "source": [
    "# fire regime maps\n",
    "vars <- c(\"vcc\", \"mfri\", \"prs\", \"pms\", \"pls\", \"severity.no\")\n",
    "pos <- cbind(c(1,1),c(1,2),c(1,3),c(2,1),c(2,2),c(2,3))\n",
    "png(paste0(out,'fire_regime_variable_maps.png'), width=12, height=8, units=\"in\", res=300)\n",
    "par(mfrow=c(2,3), xpd=FALSE, mar=rep(0.5,4))\n",
    "for(var in vars){\n",
    "    if(var != 'severity.no'){\n",
    "        p <- mapping.LF(spdf, var)\n",
    "    }else{\n",
    "        p <- mapping.severity()\n",
    "    }\n",
    "    print(p,split=c(pos[,which(vars==var)][2], pos[,which(vars==var)][1], 3, 2), newpage=FALSE) \n",
    "    print(var)\n",
    "}\n",
    "dev.off()"
   ]
  },
  {
   "cell_type": "code",
   "execution_count": 16,
   "metadata": {
    "collapsed": false
   },
   "outputs": [
    {
     "name": "stdout",
     "output_type": "stream",
     "text": [
      "[1] \"SprsCosts\"\n",
      "[1] \"SprsAcres\"\n",
      "[1] \"SprsCPA\"\n",
      "[1] \"SprsFires\"\n",
      "[1] \"PctSprs\"\n",
      "[1] \"SprsAcre\"\n",
      "[1] \"SprsDays\"\n",
      "[1] \"OutDays\"\n"
     ]
    },
    {
     "data": {
      "text/html": [
       "<strong>pdf:</strong> 2"
      ],
      "text/latex": [
       "\\textbf{pdf:} 2"
      ],
      "text/markdown": [
       "**pdf:** 2"
      ],
      "text/plain": [
       "pdf \n",
       "  2 "
      ]
     },
     "metadata": {},
     "output_type": "display_data"
    }
   ],
   "source": [
    "# fire data maps\n",
    "vars <- c('SprsCosts', 'SprsAcres', 'SprsCPA', 'SprsFires', 'PctSprs', 'SprsAcre', 'SprsDays', 'OutDays')\n",
    "titles <- c('Suppression costs', 'Suppression acres', 'Unit suppression costs', \n",
    "            'No. fires suppressed', 'Ratio of suppressed fires',\n",
    "            'Fire size of suppressed fires', 'Containment duration', 'Fire out duration')\n",
    "\n",
    "pos <- cbind(c(1,1),c(1,2),c(1,3),c(1,4),c(2,1),c(2,2),c(2,3),c(2,4))\n",
    "\n",
    "png(paste0(out,'suppression_variable_maps.png'), width=12, height=6, units=\"in\", res=300)\n",
    "par(mfrow=c(2,4), xpd=FALSE, mar=rep(0.5,4))\n",
    "for(var in vars){\n",
    "    p <- mapping.sprs(spdf, var, titles[which(vars==var)])\n",
    "    print(p,split=c(pos[,which(vars==var)][2], pos[,which(vars==var)][1], 4, 2), newpage=FALSE) \n",
    "    print(var)\n",
    "}\n",
    "dev.off()"
   ]
  },
  {
   "cell_type": "code",
   "execution_count": null,
   "metadata": {
    "collapsed": true
   },
   "outputs": [],
   "source": []
  }
 ],
 "metadata": {
  "kernelspec": {
   "display_name": "R",
   "language": "R",
   "name": "ir"
  },
  "language_info": {
   "codemirror_mode": "r",
   "file_extension": ".r",
   "mimetype": "text/x-r-source",
   "name": "R",
   "pygments_lexer": "r",
   "version": "3.4.4"
  }
 },
 "nbformat": 4,
 "nbformat_minor": 2
}
