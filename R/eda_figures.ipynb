{
 "cells": [
  {
   "cell_type": "code",
   "execution_count": 14,
   "metadata": {
    "collapsed": false
   },
   "outputs": [
    {
     "name": "stderr",
     "output_type": "stream",
     "text": [
      "Loading required package: sp\n",
      "rgdal: version: 1.2-18, (SVN revision 718)\n",
      " Geospatial Data Abstraction Library extensions to R successfully loaded\n",
      " Loaded GDAL runtime: GDAL 2.1.3, released 2017/20/01\n",
      " Path to GDAL shared files: /Library/Frameworks/R.framework/Versions/3.4/Resources/library/rgdal/gdal\n",
      " GDAL binary built with GEOS: FALSE \n",
      " Loaded PROJ.4 runtime: Rel. 4.9.3, 15 August 2016, [PJ_VERSION: 493]\n",
      " Path to PROJ.4 shared files: /Library/Frameworks/R.framework/Versions/3.4/Resources/library/rgdal/proj\n",
      " Linking to sp version: 1.2-7 \n",
      "\n",
      "Attaching package: ‘dplyr’\n",
      "\n",
      "The following objects are masked from ‘package:raster’:\n",
      "\n",
      "    intersect, select, union\n",
      "\n",
      "The following objects are masked from ‘package:stats’:\n",
      "\n",
      "    filter, lag\n",
      "\n",
      "The following objects are masked from ‘package:base’:\n",
      "\n",
      "    intersect, setdiff, setequal, union\n",
      "\n"
     ]
    }
   ],
   "source": [
    "library(rgdal)\n",
    "library(raster)\n",
    "library(dplyr)\n",
    "library(RColorBrewer)"
   ]
  },
  {
   "cell_type": "code",
   "execution_count": 52,
   "metadata": {
    "collapsed": false
   },
   "outputs": [],
   "source": [
    "# suppression 2D plots\n",
    "path <- '/Users/dongmeichen/Documents/beetle/data'\n",
    "df.fire <- read.csv(sprintf('%s/plot_2D_firedata.csv', path))\n",
    "df.forest <- read.csv(sprintf('%s/plot_2D_forestdata.csv', path))\n",
    "df <- cbind(df.fire, df.forest)\n",
    "# head(df)"
   ]
  },
  {
   "cell_type": "code",
   "execution_count": 9,
   "metadata": {
    "collapsed": true
   },
   "outputs": [],
   "source": [
    "out <- '/Users/dongmeichen/Documents/beetle/images/DEA/'"
   ]
  },
  {
   "cell_type": "code",
   "execution_count": 54,
   "metadata": {
    "collapsed": false
   },
   "outputs": [
    {
     "data": {
      "text/html": [
       "<strong>pdf:</strong> 2"
      ],
      "text/latex": [
       "\\textbf{pdf:} 2"
      ],
      "text/markdown": [
       "**pdf:** 2"
      ],
      "text/plain": [
       "pdf \n",
       "  2 "
      ]
     },
     "metadata": {},
     "output_type": "display_data"
    }
   ],
   "source": [
    "vars <- c('SprsFires', 'PctSprs', 'SprsAcre', 'mStdAge', 'density', 'vcc', 'GAP1', 'GAP2', 'GAP3')\n",
    "mains <- c('No. fires suppressed', 'Ratio of suppressed fires', 'Fire size of suppressed fires',\n",
    "           'Stand age', 'Tree density', 'Vegetation condition class', 'Disturbance events allowed',\n",
    "           'Disturbance events suppressed', 'Subject to human activities')\n",
    "png(paste0(out,\"suppression_2D_plots.png\"), width=9, height=9, units=\"in\", res=300)\n",
    "par(mfrow=c(3,3),mar=c(3.5,3.5,3,1))\n",
    "for(v in vars){\n",
    "    if(v == 'GAP2'){\n",
    "        plot(df[,paste0(v, '.y')] ~ df[, v], \n",
    "             type='l',\n",
    "             lty=2,\n",
    "             lwd=2,\n",
    "             #cex.lab=0.8,\n",
    "             cex.axis=1.5,\n",
    "             main=mains[which(vars==v)],\n",
    "             xlab='', \n",
    "             ylab='')                 \n",
    "    }else{\n",
    "        plot(df[,paste0(v, '.y')] ~ df[, v], \n",
    "             type='l',\n",
    "             lty=1,\n",
    "             lwd=2,\n",
    "             #cex.lab=0.8,\n",
    "             cex.axis=1.5,\n",
    "             main=mains[which(vars==v)],\n",
    "             xlab='', \n",
    "             ylab='')  \n",
    "    }\n",
    "    \n",
    "}\n",
    "dev.off()"
   ]
  },
  {
   "cell_type": "code",
   "execution_count": 35,
   "metadata": {
    "collapsed": true
   },
   "outputs": [],
   "source": [
    "# vegetation condition class barplots\n",
    "df <- read.csv(paste0(path, \"/mpb10km_with_beetle_data.csv\"))"
   ]
  },
  {
   "cell_type": "code",
   "execution_count": 44,
   "metadata": {
    "collapsed": true
   },
   "outputs": [],
   "source": [
    "df <- df[complete.cases(df), ]"
   ]
  },
  {
   "cell_type": "code",
   "execution_count": 36,
   "metadata": {
    "collapsed": true
   },
   "outputs": [],
   "source": [
    "df$severity <- ifelse(df$prs >= 17 & df$mfri >= 16, 'replacement', ifelse(df$pls >= 17 & df$mfri <= 4, 'low', 'mixed'))\n",
    "df$severity.no <- ifelse(df$severity == 'replacement', 3, ifelse(df$severity == 'low', 1, 2))"
   ]
  },
  {
   "cell_type": "code",
   "execution_count": 45,
   "metadata": {
    "collapsed": true
   },
   "outputs": [],
   "source": [
    "df.cpa <- df[df$SprsCPA != Inf, ]"
   ]
  },
  {
   "cell_type": "code",
   "execution_count": 37,
   "metadata": {
    "collapsed": true
   },
   "outputs": [],
   "source": [
    "get.df <- function(df, var1, var2, fun){\n",
    "    if(var2 == 'mfri'){\n",
    "        cond <- paste0(var2, ' %in% c(1:22)')\n",
    "    }else if(var2 == 'vcc'){\n",
    "        cond <- paste0(var2, ' %in% c(1:6)')\n",
    "    }else if(var2 %in% c('pls', 'pms', 'prs')){\n",
    "        cond <- paste0(var2, ' %in% c(1:20)')\n",
    "    }else if(var2 == 'severity.no'){\n",
    "        cond <- paste0(var2, ' %in% c(1:3)')\n",
    "    }\n",
    "    strings <- paste0('df %>% subset(', cond, ') %>% dplyr::select(') # forest==1 & \n",
    "    strings <- paste0(strings, var2, ',', var1, ') %>% group_by(', var2)\n",
    "    strings <- paste0(strings,  ') %>% summarise(', fun, '=', fun, '(', var1)\n",
    "    strings <- paste0(strings, ', na.rm=TRUE), grids = sum(!is.na(', var1)\n",
    "    if(fun=='sum' & var1 %in% sprs.vars){\n",
    "        strings <- paste0(strings,')), average=sum(', var1, ', na.rm=TRUE)/sum(!is.na(', var1)\n",
    "        strings <- paste0(strings,')), percent=sum(!is.na(', var1, '))/length(',var1,'))')\n",
    "    }else if(fun=='sum'){\n",
    "        strings <- paste0(strings,')), average=sum(', var1, ', na.rm=TRUE)/sum(!is.na(', var1, ')))')\n",
    "    }else{\n",
    "        strings <- paste0(strings,')), percent=sum(!is.na(', var1, '))/length(',var1,'))')\n",
    "    }\n",
    "    sdf <- eval(parse(text=strings))\n",
    "    return(sdf)\n",
    "}"
   ]
  },
  {
   "cell_type": "code",
   "execution_count": 38,
   "metadata": {
    "collapsed": false
   },
   "outputs": [],
   "source": [
    "sprs.vars <- c('SprsCosts', 'SprsAcres', 'SprsCPA', 'SprsFires', 'PctSprs', \n",
    "               'SprsAcre', 'SprsDays', 'OutDays')\n",
    "plt.vars <- c('beetleAcres', 'mStdAge', 'density', 'PctOld', sprs.vars)\n",
    "sprs.titles <- c('Suppression costs', 'Suppression acres', 'Unit suppression costs',\n",
    "                 'No. suppressed fires', 'Ratio of suppressed fires', 'Fire size suppressed',\n",
    "                 'Containment duration', 'Fire out duration')\n",
    "plt.titles <- c('MPB affected acres', 'Stand age', 'Tree density', 'Ratio of old trees', sprs.titles)"
   ]
  },
  {
   "cell_type": "code",
   "execution_count": 39,
   "metadata": {
    "collapsed": true
   },
   "outputs": [],
   "source": [
    "agr.vars <- rep('average', 12)\n",
    "funs <- rep('sum', 12)"
   ]
  },
  {
   "cell_type": "code",
   "execution_count": 40,
   "metadata": {
    "collapsed": true
   },
   "outputs": [],
   "source": [
    "get.table <- function(df, var, agr.var, fun){\n",
    "    df.low <- df[df$severity == 'low', ]\n",
    "    df.mixed <- df[df$severity == 'mixed', ]\n",
    "    df.replacement <- df[df$severity == 'replacement', ]\n",
    "    sdf <- as.data.frame(get.df(df, var, 'vcc', fun=fun))\n",
    "    sdf.low <- as.data.frame(get.df(df.low, var, 'vcc', fun=fun))\n",
    "    sdf.mixed <- as.data.frame(get.df(df.mixed, var, 'vcc', fun=fun))\n",
    "    sdf.replacement <- as.data.frame(get.df(df.replacement, var, 'vcc', fun=fun))\n",
    "    sdf.group <- rbind(sdf.low, sdf.mixed, sdf.replacement)\n",
    "    sdf.group$severity <- c(rep('low', dim(sdf.low)[1]), rep('mixed', dim(sdf.mixed)[1]), \n",
    "                            rep('replacement', dim(sdf.replacement)[1]))\n",
    "    mat <- matrix(0, ncol=length(unique(sdf.group$vcc)), nrow=length(unique(sdf.group$severity)))\n",
    "    rownames(mat) <- sort(unique(sdf.group$severity))\n",
    "    colnames(mat) <- sort(unique(sdf.group$vcc))\n",
    "    for (sev in sort(unique(sdf.group$severity))) {\n",
    "        for (v in sort(unique(sdf.group$vcc))) {\n",
    "            sev.sum <- sum(sdf.group[sdf.group$vcc == v, 'grids'])\n",
    "            if(length(sdf.group[sdf.group$severity == sev & sdf.group$vcc == v, 'grids']) != 0){\n",
    "                mat[sev, v] <- sdf.group[sdf.group$severity == sev & sdf.group$vcc == v, 'grids'] / sev.sum\n",
    "            }  \n",
    "        }\n",
    "    }\n",
    "    data <- mat * rbind(sdf[,agr.var], sdf[,agr.var],sdf[,agr.var])\n",
    "    return(data)\n",
    "}"
   ]
  },
  {
   "cell_type": "code",
   "execution_count": 41,
   "metadata": {
    "collapsed": true
   },
   "outputs": [],
   "source": [
    "get.plot.col <- function(df, title){\n",
    "    barplot(df, col=c('#636363', '#bdbdbd', '#f0f0f0'), main = title, cex.names = 1.2, cex.lab=1.2, cex.axis=1.2, cex.main=1.5)\n",
    "}"
   ]
  },
  {
   "cell_type": "code",
   "execution_count": 50,
   "metadata": {
    "collapsed": true
   },
   "outputs": [],
   "source": [
    "plot.vcc.severity <- function(){\n",
    "    png(paste0(out, \"vcc_severity_plots.png\"), width=12, height=9, units=\"in\", res=300)\n",
    "    par(mfrow=c(3,4),xpd=FALSE,mar=c(3,3,3,0))\n",
    "    for(var in plt.vars){\n",
    "        if(var == 'SprsCPA'){\n",
    "            dt <- get.table(df.cpa, var, agr.var=agr.vars[plt.vars==var], fun=funs[plt.vars==var])\n",
    "        }else{\n",
    "            dt <- get.table(df, var, agr.var=agr.vars[plt.vars==var], fun=funs[plt.vars==var])\n",
    "        }\n",
    "        get.plot.col(dt, plt.titles[plt.vars==var])\n",
    "        #print(var)\n",
    "    }\n",
    "    dev.off()\n",
    "}"
   ]
  },
  {
   "cell_type": "code",
   "execution_count": 51,
   "metadata": {
    "collapsed": false
   },
   "outputs": [
    {
     "name": "stdout",
     "output_type": "stream",
     "text": [
      "[1] \"beetleAcres\"\n",
      "[1] \"mStdAge\"\n",
      "[1] \"density\"\n",
      "[1] \"PctOld\"\n",
      "[1] \"SprsCosts\"\n",
      "[1] \"SprsAcres\"\n",
      "[1] \"SprsCPA\"\n",
      "[1] \"SprsFires\"\n",
      "[1] \"PctSprs\"\n",
      "[1] \"SprsAcre\"\n",
      "[1] \"SprsDays\"\n",
      "[1] \"OutDays\"\n"
     ]
    },
    {
     "data": {
      "text/html": [
       "<strong>pdf:</strong> 2"
      ],
      "text/latex": [
       "\\textbf{pdf:} 2"
      ],
      "text/markdown": [
       "**pdf:** 2"
      ],
      "text/plain": [
       "pdf \n",
       "  2 "
      ]
     },
     "metadata": {},
     "output_type": "display_data"
    }
   ],
   "source": [
    "plot.vcc.severity()"
   ]
  },
  {
   "cell_type": "code",
   "execution_count": 76,
   "metadata": {
    "collapsed": true
   },
   "outputs": [],
   "source": [
    "v1 <- c('logSprsCPA.p1', 'SprsFires', 'PctSprs', 'SprsAcre', 'SprsDays', 'OutDays')\n",
    "v2 <- c('PctLarge', 'PctOld')\n",
    "v3 <- c('mStdAge', 'density', 'vcc', 'mfri', 'prs', 'pms', 'pls')\n",
    "vs <- c(v1, v2, v3)"
   ]
  },
  {
   "cell_type": "code",
   "execution_count": 144,
   "metadata": {
    "collapsed": true
   },
   "outputs": [],
   "source": [
    "# point plots of two variables\n",
    "df1 <- read.csv(sprintf('%s/mpb10km_data_clean.csv', path))\n",
    "df2 <- read.csv(sprintf('%s/mpb10km_data_wo_costs.csv', path))\n",
    "df3 <- read.csv(sprintf('%s/mpb10km_data_wo_firedata.csv', path))\n",
    "df4 <- read.csv(sprintf('%s/mpb10km_data_wo_FIA.csv', path))"
   ]
  },
  {
   "cell_type": "code",
   "execution_count": 145,
   "metadata": {
    "collapsed": true
   },
   "outputs": [],
   "source": [
    "mains <- c('Unit suppression costs (log)', 'No. suppressed fires (log)', 'Ratio of suppressed fires', \n",
    "           'Fire size suppressed (log)', 'Containment duration (log)', 'Fire out duration (log)',\n",
    "           'Ratio of large trees', 'Ratio of old trees', 'Stand age (log)', 'Tree density (log)',\n",
    "           'Vegetation condition class', 'Mean fire return interval', 'Percent of replacement-severity fire',\n",
    "           'Percent of mixed-severity fire', 'Percent of low-severity fire')"
   ]
  },
  {
   "cell_type": "code",
   "execution_count": 149,
   "metadata": {
    "collapsed": false
   },
   "outputs": [
    {
     "data": {
      "text/html": [
       "<strong>pdf:</strong> 2"
      ],
      "text/latex": [
       "\\textbf{pdf:} 2"
      ],
      "text/markdown": [
       "**pdf:** 2"
      ],
      "text/plain": [
       "pdf \n",
       "  2 "
      ]
     },
     "metadata": {},
     "output_type": "display_data"
    }
   ],
   "source": [
    "png(paste0(out, \"simple_linear_models.png\"), width=15, height=9, units=\"in\", res=300)\n",
    "par(mfrow=c(3,5),mar=c(3.5,3.5,3,1))\n",
    "for(field in vs){\n",
    "    if(field=='logSprsCPA.p1'){\n",
    "        df <- df1[,c('beetleAcres', field)]\n",
    "        #df[,field] <- exp(df[,field]) - 1\n",
    "    }else if(field %in% v1[-1]){\n",
    "        df <- df2[,c('beetleAcres', field)]\n",
    "    }else if(field %in% v2){\n",
    "        df <- df3[,c('beetleAcres', field)]\n",
    "    }else if(field %in% v3){\n",
    "        df <- df4[,c('beetleAcres', field)]\n",
    "    }\n",
    "    if(field %in% c('SprsFires', 'SprsAcre', 'SprsDays', 'OutDays', 'mStdAge', 'density')){\n",
    "        df[, field] <- log(df[, field]+1)\n",
    "    }\n",
    "    if(field %in% c('vcc', 'mfri', 'prs', 'pms', 'pls')){\n",
    "        plot(df[,'beetleAcres'] ~ df[, field],\n",
    "         type='h',\n",
    "         lwd=3,\n",
    "         pch=16, \n",
    "         cex=0.8,\n",
    "         col=rgb(0, 0, 0, 0.2),\n",
    "         main=mains[which(vs==field)],\n",
    "         xlab='',\n",
    "         ylab='')\n",
    "        #lines(lowess(df[,'beetleAcres'] ~ df[, field]), col=2, lwd=2, lty=2)   \n",
    "    }\n",
    "    if(!(field %in% c('vcc', 'mfri', 'prs', 'pms', 'pls'))){\n",
    "        df$beetleAcres <- df$beetleAcres^0.05\n",
    "        colnames(df)[2] <- 'field'\n",
    "        g <- lm(beetleAcres~field, data=df)\n",
    "        colnames(df)[2] <- field\n",
    "        modsum <- summary(g)\n",
    "        r2 = modsum$adj.r.squared\n",
    "        my.p = modsum$coefficients[2,4]\n",
    "        rp = vector('expression',2)\n",
    "        rp[1] = substitute(expression(italic(R)^2 == MYVALUE), \n",
    "            list(MYVALUE = format(r2,dig=3)))[2]\n",
    "        rp[2] = substitute(expression(italic(p) == MYOTHERVALUE), \n",
    "            list(MYOTHERVALUE = format(my.p, digits = 2)))[2]\n",
    "        plot(df[,'beetleAcres'] ~ df[, field], \n",
    "             pch=16, \n",
    "             cex=0.8,\n",
    "             col=rgb(0, 0, 0, 0.2),\n",
    "             main=mains[which(vs==field)],\n",
    "             xlab='',\n",
    "             ylab='')\n",
    "        lines(lowess(df[,'beetleAcres'] ~ df[, field]), col=2, lwd=2, lty=2)\n",
    "        abline(g, lwd=2)\n",
    "        if(field %in% c('mStdAge', 'density')){\n",
    "            legend('bottomleft', legend = rp, bty = 'n')  \n",
    "        }else{\n",
    "            legend('bottomright', legend = rp, bty = 'n') \n",
    "        }  \n",
    "    }     \n",
    "}\n",
    "dev.off()"
   ]
  },
  {
   "cell_type": "code",
   "execution_count": null,
   "metadata": {
    "collapsed": true
   },
   "outputs": [],
   "source": []
  }
 ],
 "metadata": {
  "kernelspec": {
   "display_name": "R",
   "language": "R",
   "name": "ir"
  },
  "language_info": {
   "codemirror_mode": "r",
   "file_extension": ".r",
   "mimetype": "text/x-r-source",
   "name": "R",
   "pygments_lexer": "r",
   "version": "3.4.4"
  }
 },
 "nbformat": 4,
 "nbformat_minor": 2
}
